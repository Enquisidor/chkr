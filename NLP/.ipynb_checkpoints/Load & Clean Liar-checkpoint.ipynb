{
 "cells": [
  {
   "cell_type": "code",
   "execution_count": null,
   "metadata": {},
   "outputs": [],
   "source": [
    "import zipfile\n",
    "liar = zipfile.ZipFile('../data/liar_dataset.zip', 'r')\n",
    "liar.printdir()\n",
    "print('\\n')"
   ]
  },
  {
   "cell_type": "code",
   "execution_count": null,
   "metadata": {},
   "outputs": [],
   "source": [
    "import io\n",
    "\n",
    "liar_train_tsv = io.TextIOWrapper(liar.open('train.tsv'))\n",
    "liar_test_tsv = io.TextIOWrapper(liar.open('test.tsv'))  "
   ]
  },
  {
   "cell_type": "code",
   "execution_count": null,
   "metadata": {},
   "outputs": [],
   "source": [
    "import pandas as p\n",
    "\n",
    "liar_train_df = p.read_table(liar_train_tsv,\n",
    "                             names = ['id','label','statement',\n",
    "                                      'subject','speaker','job',\n",
    "                                      'state','party','barely_true_c',\n",
    "                                      'false_c','half_true_c','mostly_true_c',\n",
    "                                      'pants_on_fire_c','venue'])\n",
    "liar_test_df = p.read_table(liar_test_tsv,\n",
    "                             names = ['id','label','statement',\n",
    "                                      'subject','speaker','job',\n",
    "                                      'state','party','barely_true_c',\n",
    "                                      'false_c','half_true_c','mostly_true_c',\n",
    "                                      'pants_on_fire_c','venue'])\n",
    "print('\\nLiar train:')\n",
    "print(liar_train_df.columns)\n",
    "print('\\nLiar test:')\n",
    "print(liar_test_df.columns)"
   ]
  },
  {
   "cell_type": "code",
   "execution_count": null,
   "metadata": {},
   "outputs": [],
   "source": [
    "print('\\nLiar train:')\n",
    "print(liar_train_df.shape)\n",
    "print('\\nLiar test:')\n",
    "print(liar_test_df.shape)"
   ]
  },
  {
   "cell_type": "code",
   "execution_count": null,
   "metadata": {},
   "outputs": [],
   "source": [
    "liar_train_df = liar_train_df.dropna(subset=['subject'])\n",
    "liar_train_df.job = liar_train_df.job.fillna('')\n",
    "liar_test_df.job = liar_test_df.job.fillna('')\n",
    "liar_train_df.state = liar_train_df.state.fillna('')\n",
    "liar_test_df.state = liar_test_df.state.fillna('')\n",
    "liar_train_df.venue = liar_train_df.venue.fillna('')\n",
    "liar_test_df.venue = liar_test_df.venue.fillna('')\n",
    "\n",
    "\n",
    "print('\\nLiar train:')\n",
    "print(liar_train_df.isnull().sum())\n",
    "print('\\nLiar test:')\n",
    "print(liar_test_df.isnull().sum())"
   ]
  },
  {
   "cell_type": "code",
   "execution_count": null,
   "metadata": {},
   "outputs": [],
   "source": [
    "liar_train_df = liar_train_df[liar_train_df.pants_on_fire_c < 51]\n",
    "liar_train_df = liar_train_df[liar_train_df.false_c < 51]\n",
    "liar_train_df = liar_train_df[liar_train_df.barely_true_c < 51]\n",
    "liar_train_df = liar_train_df[liar_train_df.half_true_c < 51]\n",
    "liar_train_df = liar_train_df[liar_train_df.mostly_true_c < 51]\n",
    "\n",
    "liar_test_df = liar_test_df[liar_test_df.pants_on_fire_c < 51]\n",
    "liar_test_df = liar_test_df[liar_test_df.false_c < 51]\n",
    "liar_test_df = liar_test_df[liar_test_df.barely_true_c < 51]\n",
    "liar_test_df = liar_test_df[liar_test_df.half_true_c < 51]\n",
    "liar_test_df = liar_test_df[liar_test_df.mostly_true_c < 51]"
   ]
  },
  {
   "cell_type": "code",
   "execution_count": null,
   "metadata": {},
   "outputs": [],
   "source": [
    "print('\\nLiar train:')\n",
    "print(liar_train_df.shape)\n",
    "print('\\nLiar test:')\n",
    "print(liar_test_df.shape)"
   ]
  }
 ],
 "metadata": {
  "kernelspec": {
   "display_name": "Python 3",
   "language": "python",
   "name": "python3"
  },
  "language_info": {
   "codemirror_mode": {
    "name": "ipython",
    "version": 3
   },
   "file_extension": ".py",
   "mimetype": "text/x-python",
   "name": "python",
   "nbconvert_exporter": "python",
   "pygments_lexer": "ipython3",
   "version": "3.7.4"
  }
 },
 "nbformat": 4,
 "nbformat_minor": 2
}
