{
 "cells": [
  {
   "cell_type": "code",
   "execution_count": 2,
   "metadata": {},
   "outputs": [
    {
     "name": "stdout",
     "output_type": "stream",
     "text": [
      "File Name                                             Modified             Size\n",
      "fnc-1-master/                                  2017-06-14 23:58:08            0\n",
      "fnc-1-master/README.md                         2017-06-14 23:58:08          962\n",
      "fnc-1-master/competition_test_bodies.csv       2017-06-14 23:58:08      2045680\n",
      "fnc-1-master/competition_test_stances.csv      2017-06-14 23:58:08      2177588\n",
      "fnc-1-master/competition_test_stances_unlabeled.csv 2017-06-14 23:58:08      1940688\n",
      "fnc-1-master/scorer.py                         2017-06-14 23:58:08         4617\n",
      "fnc-1-master/test_bodies.csv                   2017-06-14 23:58:08      2045680\n",
      "fnc-1-master/test_stances_unlabeled.csv        2017-06-14 23:58:08      1940688\n",
      "fnc-1-master/train_bodies.csv                  2017-06-14 23:58:08      3752301\n",
      "fnc-1-master/train_stances.csv                 2017-06-14 23:58:08      4255300\n",
      "fnc-1-master/train_stances.random.csv          2017-06-14 23:58:08      4201299\n"
     ]
    }
   ],
   "source": [
    "import zipfile\n",
    "\n",
    "fnc = zipfile.ZipFile('../data/fnc-1-master.zip', 'r')\n",
    "\n",
    "fnc.printdir()"
   ]
  },
  {
   "cell_type": "code",
   "execution_count": null,
   "metadata": {},
   "outputs": [],
   "source": [
    "import io\n",
    "\n",
    "fake_csv = io.TextIOWrapper(fake.open('fake.csv'))\n",
    "fnc_train_csvs = [io.TextIOWrapper(fnc.open('fnc-1-master/train_bodies.csv')), io.TextIOWrapper(fnc.open('fnc-1-master/train_stances.csv'))]"
   ]
  }
 ],
 "metadata": {
  "kernelspec": {
   "display_name": "Python 3",
   "language": "python",
   "name": "python3"
  },
  "language_info": {
   "codemirror_mode": {
    "name": "ipython",
    "version": 3
   },
   "file_extension": ".py",
   "mimetype": "text/x-python",
   "name": "python",
   "nbconvert_exporter": "python",
   "pygments_lexer": "ipython3",
   "version": "3.7.4"
  }
 },
 "nbformat": 4,
 "nbformat_minor": 2
}
