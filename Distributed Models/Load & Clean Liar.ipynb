{
 "cells": [
  {
   "cell_type": "code",
   "execution_count": 2,
   "metadata": {},
   "outputs": [
    {
     "name": "stdout",
     "output_type": "stream",
     "text": [
      "File Name                                             Modified             Size\n",
      "README                                         2017-04-23 03:33:54         1670\n",
      "test.tsv                                       2017-04-23 03:21:28       301118\n",
      "train.tsv                                      2017-04-23 03:21:12      2408165\n",
      "valid.tsv                                      2017-04-23 03:21:22       301556\n",
      "\n",
      "\n"
     ]
    }
   ],
   "source": [
    "import zipfile\n",
    "liar = zipfile.ZipFile('../data/liar_dataset.zip', 'r')\n",
    "liar.printdir()\n",
    "print('\\n')"
   ]
  },
  {
   "cell_type": "code",
   "execution_count": 3,
   "metadata": {},
   "outputs": [],
   "source": [
    "import io\n",
    "\n",
    "liar_train_tsv = io.TextIOWrapper(liar.open('train.tsv'))\n",
    "liar_test_tsv = io.TextIOWrapper(liar.open('test.tsv'))  "
   ]
  },
  {
   "cell_type": "code",
   "execution_count": 4,
   "metadata": {},
   "outputs": [
    {
     "name": "stdout",
     "output_type": "stream",
     "text": [
      "\n",
      "Liar train:\n",
      "Index(['id', 'label', 'statement', 'subject', 'speaker', 'job', 'state',\n",
      "       'party', 'barely_true_c', 'false_c', 'half_true_c', 'mostly_true_c',\n",
      "       'pants_on_fire_c', 'venue'],\n",
      "      dtype='object')\n",
      "\n",
      "Liar test:\n",
      "Index(['id', 'label', 'statement', 'subject', 'speaker', 'job', 'state',\n",
      "       'party', 'barely_true_c', 'false_c', 'half_true_c', 'mostly_true_c',\n",
      "       'pants_on_fire_c', 'venue'],\n",
      "      dtype='object')\n"
     ]
    }
   ],
   "source": [
    "import pandas as p\n",
    "\n",
    "liar_train_df = p.read_table(liar_train_tsv,\n",
    "                             names = ['id','label','statement',\n",
    "                                      'subject','speaker','job',\n",
    "                                      'state','party','barely_true_c',\n",
    "                                      'false_c','half_true_c','mostly_true_c',\n",
    "                                      'pants_on_fire_c','venue'])\n",
    "liar_test_df = p.read_table(liar_test_tsv,\n",
    "                             names = ['id','label','statement',\n",
    "                                      'subject','speaker','job',\n",
    "                                      'state','party','barely_true_c',\n",
    "                                      'false_c','half_true_c','mostly_true_c',\n",
    "                                      'pants_on_fire_c','venue'])\n",
    "print('\\nLiar train:')\n",
    "print(liar_train_df.columns)\n",
    "print('\\nLiar test:')\n",
    "print(liar_test_df.columns)"
   ]
  },
  {
   "cell_type": "code",
   "execution_count": 5,
   "metadata": {},
   "outputs": [
    {
     "name": "stdout",
     "output_type": "stream",
     "text": [
      "\n",
      "Liar train:\n",
      "(10240, 14)\n",
      "\n",
      "Liar test:\n",
      "(1267, 14)\n"
     ]
    }
   ],
   "source": [
    "print('\\nLiar train:')\n",
    "print(liar_train_df.shape)\n",
    "print('\\nLiar test:')\n",
    "print(liar_test_df.shape)"
   ]
  },
  {
   "cell_type": "code",
   "execution_count": 6,
   "metadata": {},
   "outputs": [
    {
     "name": "stdout",
     "output_type": "stream",
     "text": [
      "\n",
      "Liar train:\n",
      "id                 0\n",
      "label              0\n",
      "statement          0\n",
      "subject            0\n",
      "speaker            0\n",
      "job                0\n",
      "state              0\n",
      "party              0\n",
      "barely_true_c      0\n",
      "false_c            0\n",
      "half_true_c        0\n",
      "mostly_true_c      0\n",
      "pants_on_fire_c    0\n",
      "venue              0\n",
      "dtype: int64\n",
      "\n",
      "Liar test:\n",
      "id                 0\n",
      "label              0\n",
      "statement          0\n",
      "subject            0\n",
      "speaker            0\n",
      "job                0\n",
      "state              0\n",
      "party              0\n",
      "barely_true_c      0\n",
      "false_c            0\n",
      "half_true_c        0\n",
      "mostly_true_c      0\n",
      "pants_on_fire_c    0\n",
      "venue              0\n",
      "dtype: int64\n"
     ]
    }
   ],
   "source": [
    "liar_train_df = liar_train_df.dropna(subset=['subject'])\n",
    "liar_train_df.job = liar_train_df.job.fillna('')\n",
    "liar_test_df.job = liar_test_df.job.fillna('')\n",
    "liar_train_df.state = liar_train_df.state.fillna('')\n",
    "liar_test_df.state = liar_test_df.state.fillna('')\n",
    "liar_train_df.venue = liar_train_df.venue.fillna('')\n",
    "liar_test_df.venue = liar_test_df.venue.fillna('')\n",
    "\n",
    "\n",
    "print('\\nLiar train:')\n",
    "print(liar_train_df.isnull().sum())\n",
    "print('\\nLiar test:')\n",
    "print(liar_test_df.isnull().sum())"
   ]
  },
  {
   "cell_type": "code",
   "execution_count": 7,
   "metadata": {},
   "outputs": [],
   "source": [
    "liar_train_df = liar_train_df[liar_train_df.pants_on_fire_c < 51]\n",
    "liar_train_df = liar_train_df[liar_train_df.false_c < 51]\n",
    "liar_train_df = liar_train_df[liar_train_df.barely_true_c < 51]\n",
    "liar_train_df = liar_train_df[liar_train_df.half_true_c < 51]\n",
    "liar_train_df = liar_train_df[liar_train_df.mostly_true_c < 51]\n",
    "\n",
    "liar_test_df = liar_test_df[liar_test_df.pants_on_fire_c < 51]\n",
    "liar_test_df = liar_test_df[liar_test_df.false_c < 51]\n",
    "liar_test_df = liar_test_df[liar_test_df.barely_true_c < 51]\n",
    "liar_test_df = liar_test_df[liar_test_df.half_true_c < 51]\n",
    "liar_test_df = liar_test_df[liar_test_df.mostly_true_c < 51]"
   ]
  },
  {
   "cell_type": "code",
   "execution_count": 8,
   "metadata": {},
   "outputs": [
    {
     "name": "stdout",
     "output_type": "stream",
     "text": [
      "\n",
      "Liar train:\n",
      "(8920, 14)\n",
      "\n",
      "Liar test:\n",
      "(1111, 14)\n"
     ]
    }
   ],
   "source": [
    "print('\\nLiar train:')\n",
    "print(liar_train_df.shape)\n",
    "print('\\nLiar test:')\n",
    "print(liar_test_df.shape)"
   ]
  },
  {
   "cell_type": "code",
   "execution_count": null,
   "metadata": {},
   "outputs": [],
   "source": []
  }
 ],
 "metadata": {
  "kernelspec": {
   "display_name": "Python 3",
   "language": "python",
   "name": "python3"
  },
  "language_info": {
   "codemirror_mode": {
    "name": "ipython",
    "version": 3
   },
   "file_extension": ".py",
   "mimetype": "text/x-python",
   "name": "python",
   "nbconvert_exporter": "python",
   "pygments_lexer": "ipython3",
   "version": "3.7.4"
  }
 },
 "nbformat": 4,
 "nbformat_minor": 2
}
