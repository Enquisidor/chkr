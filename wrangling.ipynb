{
 "cells": [
  {
   "cell_type": "code",
   "execution_count": 2,
   "metadata": {},
   "outputs": [
    {
     "name": "stdout",
     "output_type": "stream",
     "text": [
      "File Name                                             Modified             Size\n",
      "fake.csv                                       2019-09-20 02:14:32     56680002\n",
      "\n",
      "\n",
      "File Name                                             Modified             Size\n",
      "fnc-1-master/                                  2017-06-14 23:58:08            0\n",
      "fnc-1-master/README.md                         2017-06-14 23:58:08          962\n",
      "fnc-1-master/competition_test_bodies.csv       2017-06-14 23:58:08      2045680\n",
      "fnc-1-master/competition_test_stances.csv      2017-06-14 23:58:08      2177588\n",
      "fnc-1-master/competition_test_stances_unlabeled.csv 2017-06-14 23:58:08      1940688\n",
      "fnc-1-master/scorer.py                         2017-06-14 23:58:08         4617\n",
      "fnc-1-master/test_bodies.csv                   2017-06-14 23:58:08      2045680\n",
      "fnc-1-master/test_stances_unlabeled.csv        2017-06-14 23:58:08      1940688\n",
      "fnc-1-master/train_bodies.csv                  2017-06-14 23:58:08      3752301\n",
      "fnc-1-master/train_stances.csv                 2017-06-14 23:58:08      4255300\n",
      "fnc-1-master/train_stances.random.csv          2017-06-14 23:58:08      4201299\n",
      "\n",
      "\n",
      "File Name                                             Modified             Size\n",
      "README                                         2017-04-23 03:33:54         1670\n",
      "test.tsv                                       2017-04-23 03:21:28       301118\n",
      "train.tsv                                      2017-04-23 03:21:12      2408165\n",
      "valid.tsv                                      2017-04-23 03:21:22       301556\n",
      "\n",
      "\n",
      "File Name                                             Modified             Size\n",
      "PHEME_veracity.tar.bz2                         2020-03-30 20:04:58     46529729\n",
      "convert_veracity_annotations.py                2020-03-30 20:04:58         1728\n",
      "\n",
      "\n",
      "<Response [200]>\n"
     ]
    }
   ],
   "source": [
    "# sources:\n",
    "# MultiFC - evidence based fact checking: https://competitions.codalab.org/competitions/21163 (pending)\n",
    "# PHEME - rumour detection: https://figshare.com/articles/PHEME_dataset_for_Rumour_Detection_and_Veracity_Classification/6392078\n",
    "# Fake news: https://www.kaggle.com/mrisdal/fake-news\n",
    "# Liar, Liar Pants On Fire - fake news: https://github.com/thiagorainmaker77/liar_dataset\n",
    "# Fake News Challenge: https://github.com/FakeNewsChallenge/fnc-1-baseline \n",
    "# Fever - fake news workshops: https://fever.ai/\n",
    "\n",
    "\n",
    "#import files\n",
    "import zipfile, tarfile\n",
    "import requests\n",
    "\n",
    "fake = zipfile.ZipFile('data/fake-news.zip', 'r')\n",
    "fnc = zipfile.ZipFile('data/fnc-1-master.zip', 'r')\n",
    "liar = zipfile.ZipFile('data/liar_dataset.zip', 'r')\n",
    "pheme = zipfile.ZipFile('data/PHEME.zip', 'r')\n",
    "fever = requests.get('https://s3-eu-west-1.amazonaws.com/fever.public/fever2-fixers-dev.jsonl')\n",
    "\n",
    "zips = [fake, fnc, liar, pheme]\n",
    "for file in zips:\n",
    "    file.printdir()\n",
    "    print('\\n')\n",
    "\n",
    "pheme_tar = tarfile.open(pheme.extract('PHEME_veracity.tar.bz2'))\n",
    "    \n",
    "print(fever)"
   ]
  },
  {
   "cell_type": "code",
   "execution_count": 3,
   "metadata": {},
   "outputs": [],
   "source": [
    "# get data from files and convert to pandas\n",
    "\n",
    "import io\n",
    "\n",
    "fake_csv = io.TextIOWrapper(fake.open('fake.csv'))\n",
    "fnc_train_csvs = [io.TextIOWrapper(fnc.open('fnc-1-master/train_bodies.csv')), io.TextIOWrapper(fnc.open('fnc-1-master/train_stances.csv'))]\n",
    "fnc_test_csvs = [io.TextIOWrapper(fnc.open('fnc-1-master/test_bodies.csv')), io.TextIOWrapper(fnc.open('fnc-1-master/test_stances_unlabeled.csv'))]\n",
    "liar_train_tsv = io.TextIOWrapper(liar.open('train.tsv'))\n",
    "liar_test_tsv = io.TextIOWrapper(liar.open('test.tsv'))  \n",
    "\n",
    "import pandas as p\n",
    "\n",
    "fake_df = p.read_csv(fake_csv)\n",
    "fnc_train_dfs = [p.read_csv(fnc_train_csvs[0]), p.read_csv(fnc_train_csvs[1])]\n",
    "fnc_test_dfs = [p.read_csv(fnc_test_csvs[0]), p.read_csv(fnc_test_csvs[1])]\n",
    "liar_train_df = p.read_table(liar_train_tsv,\n",
    "                             names = ['id','label','statement',\n",
    "                                      'subject','speaker','job',\n",
    "                                      'state','party','barely_true_c',\n",
    "                                      'false_c','half_true_c','mostly_true_c',\n",
    "                                      'pants_on_fire_c','venue'])\n",
    "liar_test_df = p.read_table(liar_test_tsv,\n",
    "                             names = ['id','label','statement',\n",
    "                                      'subject','speaker','job',\n",
    "                                      'state','party','barely_true_c',\n",
    "                                      'false_c','half_true_c','mostly_true_c',\n",
    "                                      'pants_on_fire_c','venue'])\n",
    "\n",
    "import json\n",
    "feverlines = [json.loads(line) for line in fever.text.splitlines()]\n",
    "fever_df = p.DataFrame(feverlines)"
   ]
  },
  {
   "cell_type": "code",
   "execution_count": 4,
   "metadata": {},
   "outputs": [
    {
     "name": "stdout",
     "output_type": "stream",
     "text": [
      "Columns\n",
      "Fake:\n",
      "Index(['uuid', 'ord_in_thread', 'author', 'published', 'title', 'text',\n",
      "       'language', 'crawled', 'site_url', 'country', 'domain_rank',\n",
      "       'thread_title', 'spam_score', 'main_img_url', 'replies_count',\n",
      "       'participants_count', 'likes', 'comments', 'shares', 'type'],\n",
      "      dtype='object')\n",
      "\n",
      "FNC bodies:\n",
      "Index(['Body ID', 'articleBody'], dtype='object')\n",
      "\n",
      "FNC stances:\n",
      "Index(['Headline', 'Body ID', 'Stance'], dtype='object')\n",
      "\n",
      "Liar:\n",
      "Index(['id', 'label', 'statement', 'subject', 'speaker', 'job', 'state',\n",
      "       'party', 'barely_true_c', 'false_c', 'half_true_c', 'mostly_true_c',\n",
      "       'pants_on_fire_c', 'venue'],\n",
      "      dtype='object')\n",
      "\\FEVER:\n",
      "Index(['id', 'label', 'claim', 'evidence', 'original_id', 'transformation',\n",
      "       'attack', 'annotation'],\n",
      "      dtype='object')\n"
     ]
    }
   ],
   "source": [
    "print('Columns\\nFake:')\n",
    "print(fake_df.columns)\n",
    "print('\\nFNC bodies:')\n",
    "print(fnc_train_dfs[0].columns)\n",
    "print('\\nFNC stances:')\n",
    "print(fnc_train_dfs[1].columns)\n",
    "print('\\nLiar:')\n",
    "print(liar_train_df.columns)\n",
    "print('\\FEVER:')\n",
    "print(fever_df.columns)"
   ]
  },
  {
   "cell_type": "code",
   "execution_count": 5,
   "metadata": {},
   "outputs": [
    {
     "name": "stdout",
     "output_type": "stream",
     "text": [
      "Shapes\n",
      "Fake:\n",
      "(12999, 20)\n",
      "\n",
      "FNC bodies train:\n",
      "(1683, 2)\n",
      "\n",
      "FNC stances train:\n",
      "(49972, 3)\n",
      "\n",
      "FNC bodies test:\n",
      "(904, 2)\n",
      "\n",
      "FNC stances test:\n",
      "(25413, 2)\n",
      "\n",
      "Liar train:\n",
      "(10240, 14)\n",
      "\n",
      "Liar test:\n",
      "(1267, 14)\n",
      "\n",
      "FEVER:\n",
      "(1174, 8)\n"
     ]
    }
   ],
   "source": [
    "print('Shapes\\nFake:')\n",
    "print(fake_df.shape)\n",
    "print('\\nFNC bodies train:')\n",
    "print(fnc_train_dfs[0].shape)\n",
    "print('\\nFNC stances train:')\n",
    "print(fnc_train_dfs[1].shape)\n",
    "print('\\nFNC bodies test:')\n",
    "print(fnc_test_dfs[0].shape)\n",
    "print('\\nFNC stances test:')\n",
    "print(fnc_test_dfs[1].shape)\n",
    "print('\\nLiar train:')\n",
    "print(liar_train_df.shape)\n",
    "print('\\nLiar test:')\n",
    "print(liar_test_df.shape)\n",
    "print('\\nFEVER:')\n",
    "print(fever_df.shape)"
   ]
  },
  {
   "cell_type": "code",
   "execution_count": 6,
   "metadata": {},
   "outputs": [],
   "source": [
    "# time to clean!\n",
    "\n",
    "import numpy as np\n",
    "\n",
    "fake_df = fake_df.drop('main_img_url', axis = 1)\n"
   ]
  },
  {
   "cell_type": "code",
   "execution_count": 7,
   "metadata": {},
   "outputs": [],
   "source": [
    "fake_df.domain_rank = fake_df.domain_rank.fillna(np.average(fake_df.domain_rank.dropna()))"
   ]
  },
  {
   "cell_type": "code",
   "execution_count": 8,
   "metadata": {},
   "outputs": [],
   "source": [
    "fake_df.author = fake_df.author.fillna('')\n",
    "fake_df.title = fake_df.title.fillna('')\n",
    "fake_df.thread_title = fake_df.thread_title.fillna('')\n",
    "fake_df.country = fake_df.country.fillna('')\n",
    "fake_df.text = fake_df.text.fillna('')"
   ]
  },
  {
   "cell_type": "code",
   "execution_count": 9,
   "metadata": {},
   "outputs": [],
   "source": [
    "liar_train_df = liar_train_df.dropna(subset=['subject'])\n",
    "\n",
    "liar_train_df.job = liar_train_df.job.fillna('')\n",
    "liar_test_df.job = liar_test_df.job.fillna('')\n",
    "liar_train_df.state = liar_train_df.state.fillna('')\n",
    "liar_test_df.state = liar_test_df.state.fillna('')\n",
    "liar_train_df.venue = liar_train_df.venue.fillna('')\n",
    "liar_test_df.venue = liar_test_df.venue.fillna('')\n",
    "\n",
    "fever_df.transformation = fever_df.transformation.fillna('')\n",
    "fever_df.original_id = fever_df.original_id.fillna('')"
   ]
  },
  {
   "cell_type": "code",
   "execution_count": 10,
   "metadata": {},
   "outputs": [
    {
     "name": "stdout",
     "output_type": "stream",
     "text": [
      "Missing Data\n",
      "Fake:\n",
      "uuid                  0\n",
      "ord_in_thread         0\n",
      "author                0\n",
      "published             0\n",
      "title                 0\n",
      "text                  0\n",
      "language              0\n",
      "crawled               0\n",
      "site_url              0\n",
      "country               0\n",
      "domain_rank           0\n",
      "thread_title          0\n",
      "spam_score            0\n",
      "replies_count         0\n",
      "participants_count    0\n",
      "likes                 0\n",
      "comments              0\n",
      "shares                0\n",
      "type                  0\n",
      "dtype: int64\n",
      "\n",
      "FNC bodies train:\n",
      "Body ID        0\n",
      "articleBody    0\n",
      "dtype: int64\n",
      "\n",
      "FNC stances train:\n",
      "Headline    0\n",
      "Body ID     0\n",
      "Stance      0\n",
      "dtype: int64\n",
      "\n",
      "FNC bodies test:\n",
      "Body ID        0\n",
      "articleBody    0\n",
      "dtype: int64\n",
      "\n",
      "FNC stances test:\n",
      "Headline    0\n",
      "Body ID     0\n",
      "dtype: int64\n",
      "\n",
      "Liar train:\n",
      "id                 0\n",
      "label              0\n",
      "statement          0\n",
      "subject            0\n",
      "speaker            0\n",
      "job                0\n",
      "state              0\n",
      "party              0\n",
      "barely_true_c      0\n",
      "false_c            0\n",
      "half_true_c        0\n",
      "mostly_true_c      0\n",
      "pants_on_fire_c    0\n",
      "venue              0\n",
      "dtype: int64\n",
      "\n",
      "Liar test:\n",
      "id                 0\n",
      "label              0\n",
      "statement          0\n",
      "subject            0\n",
      "speaker            0\n",
      "job                0\n",
      "state              0\n",
      "party              0\n",
      "barely_true_c      0\n",
      "false_c            0\n",
      "half_true_c        0\n",
      "mostly_true_c      0\n",
      "pants_on_fire_c    0\n",
      "venue              0\n",
      "dtype: int64\n",
      "\n",
      "FEVER:\n",
      "id                0\n",
      "label             0\n",
      "claim             0\n",
      "evidence          0\n",
      "original_id       0\n",
      "transformation    0\n",
      "attack            0\n",
      "annotation        0\n",
      "dtype: int64\n"
     ]
    }
   ],
   "source": [
    "# all clean\n",
    "\n",
    "print('Missing Data\\nFake:')\n",
    "print(fake_df.isnull().sum())\n",
    "print('\\nFNC bodies train:')\n",
    "print(fnc_train_dfs[0].isnull().sum())\n",
    "print('\\nFNC stances train:')\n",
    "print(fnc_train_dfs[1].isnull().sum())\n",
    "print('\\nFNC bodies test:')\n",
    "print(fnc_test_dfs[0].isnull().sum())\n",
    "print('\\nFNC stances test:')\n",
    "print(fnc_test_dfs[1].isnull().sum())\n",
    "print('\\nLiar train:')\n",
    "print(liar_train_df.isnull().sum())\n",
    "print('\\nLiar test:')\n",
    "print(liar_test_df.isnull().sum())\n",
    "print('\\nFEVER:')\n",
    "print(fever_df.isnull().sum())"
   ]
  },
  {
   "cell_type": "code",
   "execution_count": 11,
   "metadata": {},
   "outputs": [
    {
     "data": {
      "text/plain": [
       "<matplotlib.axes._subplots.AxesSubplot at 0x112ef7c70>"
      ]
     },
     "execution_count": 11,
     "metadata": {},
     "output_type": "execute_result"
    },
    {
     "data": {
      "image/png": "[encoded data removed]",
      "text/plain": [
       "<Figure size 432x288 with 1 Axes>"
      ]
     },
     "metadata": {
      "needs_background": "light"
     },
     "output_type": "display_data"
    }
   ],
   "source": [
    "import matplotlib.pyplot as plt\n",
    "%matplotlib inline\n",
    "\n",
    "fake_df.plot(x='spam_score', y='domain_rank', kind='scatter')\n",
    "# no correlation b/w spam score and domain rank ???"
   ]
  },
  {
   "cell_type": "code",
   "execution_count": 44,
   "metadata": {},
   "outputs": [
    {
     "data": {
      "text/plain": [
       "<matplotlib.axes._subplots.AxesSubplot at 0x1169418e0>"
      ]
     },
     "execution_count": 44,
     "metadata": {},
     "output_type": "execute_result"
    },
    {
     "data": {
      "image/png": "[encoded data removed]",
      "text/plain": [
       "<Figure size 432x288 with 1 Axes>"
      ]
     },
     "metadata": {
      "needs_background": "light"
     },
     "output_type": "display_data"
    }
   ],
   "source": [
    "fnc_train_dfs[1].plot(x='Stance', kind='hist')\n",
    "# looks good - useable!"
   ]
  },
  {
   "cell_type": "code",
   "execution_count": 42,
   "metadata": {},
   "outputs": [
    {
     "data": {
      "text/html": [
       "<div>\n",
       "<style scoped>\n",
       "    .dataframe tbody tr th:only-of-type {\n",
       "        vertical-align: middle;\n",
       "    }\n",
       "\n",
       "    .dataframe tbody tr th {\n",
       "        vertical-align: top;\n",
       "    }\n",
       "\n",
       "    .dataframe thead th {\n",
       "        text-align: right;\n",
       "    }\n",
       "</style>\n",
       "<table border=\"1\" class=\"dataframe\">\n",
       "  <thead>\n",
       "    <tr style=\"text-align: right;\">\n",
       "      <th></th>\n",
       "      <th>id</th>\n",
       "      <th>label</th>\n",
       "      <th>statement</th>\n",
       "      <th>subject</th>\n",
       "      <th>speaker</th>\n",
       "      <th>job</th>\n",
       "      <th>state</th>\n",
       "      <th>party</th>\n",
       "      <th>barely_true_c</th>\n",
       "      <th>false_c</th>\n",
       "      <th>half_true_c</th>\n",
       "      <th>mostly_true_c</th>\n",
       "      <th>pants_on_fire_c</th>\n",
       "      <th>venue</th>\n",
       "    </tr>\n",
       "  </thead>\n",
       "  <tbody>\n",
       "    <tr>\n",
       "      <th>0</th>\n",
       "      <td>2635.json</td>\n",
       "      <td>false</td>\n",
       "      <td>Says the Annies List political group supports ...</td>\n",
       "      <td>abortion</td>\n",
       "      <td>dwayne-bohac</td>\n",
       "      <td>State representative</td>\n",
       "      <td>Texas</td>\n",
       "      <td>republican</td>\n",
       "      <td>0.0</td>\n",
       "      <td>1.0</td>\n",
       "      <td>0.0</td>\n",
       "      <td>0.0</td>\n",
       "      <td>0.0</td>\n",
       "      <td>a mailer</td>\n",
       "    </tr>\n",
       "  </tbody>\n",
       "</table>\n",
       "</div>"
      ],
      "text/plain": [
       "          id  label                                          statement  \\\n",
       "0  2635.json  false  Says the Annies List political group supports ...   \n",
       "\n",
       "    subject       speaker                   job  state       party  \\\n",
       "0  abortion  dwayne-bohac  State representative  Texas  republican   \n",
       "\n",
       "   barely_true_c  false_c  half_true_c  mostly_true_c  pants_on_fire_c  \\\n",
       "0            0.0      1.0          0.0            0.0              0.0   \n",
       "\n",
       "      venue  \n",
       "0  a mailer  "
      ]
     },
     "execution_count": 42,
     "metadata": {},
     "output_type": "execute_result"
    }
   ],
   "source": [
    "liar_train_df[:1]\n",
    "#truth data is float in multiple columns - not sure how to combine"
   ]
  },
  {
   "cell_type": "code",
   "execution_count": 30,
   "metadata": {},
   "outputs": [
    {
     "data": {
      "text/plain": [
       "array([[<matplotlib.axes._subplots.AxesSubplot object at 0x1168a1910>,\n",
       "        <matplotlib.axes._subplots.AxesSubplot object at 0x1169b1b20>],\n",
       "       [<matplotlib.axes._subplots.AxesSubplot object at 0x116c34fd0>,\n",
       "        <matplotlib.axes._subplots.AxesSubplot object at 0x1171c0460>],\n",
       "       [<matplotlib.axes._subplots.AxesSubplot object at 0x1163dd8b0>,\n",
       "        <matplotlib.axes._subplots.AxesSubplot object at 0x1167d2d60>]],\n",
       "      dtype=object)"
      ]
     },
     "execution_count": 30,
     "metadata": {},
     "output_type": "execute_result"
    },
    {
     "data": {
      "image/png": "[encoded data removed]",
      "text/plain": [
       "<Figure size 432x288 with 6 Axes>"
      ]
     },
     "metadata": {
      "needs_background": "light"
     },
     "output_type": "display_data"
    }
   ],
   "source": [
    "liar_train_df.hist()"
   ]
  },
  {
   "cell_type": "code",
   "execution_count": 40,
   "metadata": {},
   "outputs": [
    {
     "data": {
      "text/plain": [
       "35234"
      ]
     },
     "execution_count": 40,
     "metadata": {},
     "output_type": "execute_result"
    }
   ],
   "source": [
    "liar_counts = []\n",
    "liar_counts.append(liar_train_df[liar_train_df.pants_on_fire_c > 0].pants_on_fire_c.count())\n",
    "liar_counts.append(liar_train_df[liar_train_df.false_c > 0].false_c.count())\n",
    "liar_counts.append(liar_train_df[liar_train_df.barely_true_c > 0].barely_true_c.count())\n",
    "liar_counts.append(liar_train_df[liar_train_df.half_true_c > 0].half_true_c.count())\n",
    "liar_counts.append(liar_train_df[liar_train_df.mostly_true_c > 0].mostly_true_c.count())\n",
    "sum(liar_counts)\n",
    "# ~35,000 non-zero rating for ~10,000 rows - ~3.5 per row!"
   ]
  },
  {
   "cell_type": "code",
   "execution_count": 15,
   "metadata": {},
   "outputs": [
    {
     "data": {
      "text/plain": [
       "0                          [[[269158, None, None, None]]]\n",
       "1                     [[[141141, 156349, Simon_Pegg, 0]]]\n",
       "2       [[[25977, 31918, Exotic_Birds, 2], [25977, 319...\n",
       "3       [[[None, None, The_Nice_Guys, 0], [None, None,...\n",
       "4       [[[None, None, Rupert_Murdoch, 1], [None, None...\n",
       "                              ...                        \n",
       "1169      [[[179017, None, Macklemore_&_Ryan_Lewis, -1]]]\n",
       "1170                [[[24966, 30831, Stomp_the_Yard, 0]]]\n",
       "1171       [[[49192, 58517, Meteora_-LRB-horse-RRB-, 0]]]\n",
       "1172    [[[238922, 240894, The_Chaperone_-LRB-film-RRB...\n",
       "1173     [[[93188, 106109, Night_of_the_Living_Dead, 0]]]\n",
       "Name: evidence, Length: 1174, dtype: object"
      ]
     },
     "execution_count": 15,
     "metadata": {},
     "output_type": "execute_result"
    }
   ],
   "source": [
    "fever_df.evidence\n",
    "#won't use this - not sure what values mean, content sources are weird (movies, music, etc.)"
   ]
  },
  {
   "cell_type": "code",
   "execution_count": null,
   "metadata": {},
   "outputs": [],
   "source": []
  }
 ],
 "metadata": {
  "kernelspec": {
   "display_name": "Python 3",
   "language": "python",
   "name": "python3"
  },
  "language_info": {
   "codemirror_mode": {
    "name": "ipython",
    "version": 3
   },
   "file_extension": ".py",
   "mimetype": "text/x-python",
   "name": "python",
   "nbconvert_exporter": "python",
   "pygments_lexer": "ipython3",
   "version": "3.8.2"
  }
 },
 "nbformat": 4,
 "nbformat_minor": 2
}
