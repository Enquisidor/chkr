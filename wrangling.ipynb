{
 "cells": [
  {
   "cell_type": "code",
   "execution_count": 274,
   "metadata": {},
   "outputs": [
    {
     "name": "stdout",
     "output_type": "stream",
     "text": [
      "File Name                                             Modified             Size\n",
      "fake.csv                                       2019-09-20 02:14:32     56680002\n",
      "\n",
      "\n",
      "File Name                                             Modified             Size\n",
      "fnc-1-master/                                  2017-06-14 23:58:08            0\n",
      "fnc-1-master/README.md                         2017-06-14 23:58:08          962\n",
      "fnc-1-master/competition_test_bodies.csv       2017-06-14 23:58:08      2045680\n",
      "fnc-1-master/competition_test_stances.csv      2017-06-14 23:58:08      2177588\n",
      "fnc-1-master/competition_test_stances_unlabeled.csv 2017-06-14 23:58:08      1940688\n",
      "fnc-1-master/scorer.py                         2017-06-14 23:58:08         4617\n",
      "fnc-1-master/test_bodies.csv                   2017-06-14 23:58:08      2045680\n",
      "fnc-1-master/test_stances_unlabeled.csv        2017-06-14 23:58:08      1940688\n",
      "fnc-1-master/train_bodies.csv                  2017-06-14 23:58:08      3752301\n",
      "fnc-1-master/train_stances.csv                 2017-06-14 23:58:08      4255300\n",
      "fnc-1-master/train_stances.random.csv          2017-06-14 23:58:08      4201299\n",
      "\n",
      "\n",
      "File Name                                             Modified             Size\n",
      "README                                         2017-04-23 03:33:54         1670\n",
      "test.tsv                                       2017-04-23 03:21:28       301118\n",
      "train.tsv                                      2017-04-23 03:21:12      2408165\n",
      "valid.tsv                                      2017-04-23 03:21:22       301556\n",
      "\n",
      "\n",
      "File Name                                             Modified             Size\n",
      "PHEME_veracity.tar.bz2                         2020-03-30 20:04:58     46529729\n",
      "convert_veracity_annotations.py                2020-03-30 20:04:58         1728\n",
      "\n",
      "\n",
      "<Response [200]>\n"
     ]
    }
   ],
   "source": [
    "# sources:\n",
    "# MultiFC - evidence based fact checking: https://competitions.codalab.org/competitions/21163 (pending)\n",
    "# PHEME - rumour detection: https://figshare.com/articles/PHEME_dataset_for_Rumour_Detection_and_Veracity_Classification/6392078\n",
    "# Fake news: https://www.kaggle.com/mrisdal/fake-news\n",
    "# Liar, Liar Pants On Fire - fake news: https://github.com/thiagorainmaker77/liar_dataset\n",
    "# Fake News Challenge: https://github.com/FakeNewsChallenge/fnc-1-baseline \n",
    "# Fever - fake news workshops: https://fever.ai/\n",
    "\n",
    "\n",
    "#import files\n",
    "import zipfile, tarfile\n",
    "import requests\n",
    "\n",
    "fake = zipfile.ZipFile('data/fake-news.zip', 'r')\n",
    "fnc = zipfile.ZipFile('data/fnc-1-master.zip', 'r')\n",
    "liar = zipfile.ZipFile('data/liar_dataset.zip', 'r')\n",
    "pheme = zipfile.ZipFile('data/PHEME.zip', 'r')\n",
    "fever = requests.get('https://s3-eu-west-1.amazonaws.com/fever.public/fever2-fixers-dev.jsonl')\n",
    "\n",
    "zips = [fake, fnc, liar, pheme]\n",
    "for file in zips:\n",
    "    file.printdir()\n",
    "    print('\\n')\n",
    "\n",
    "pheme_tar = tarfile.open(pheme.extract('PHEME_veracity.tar.bz2'))\n",
    "    \n",
    "print(fever)"
   ]
  },
  {
   "cell_type": "code",
   "execution_count": 303,
   "metadata": {},
   "outputs": [],
   "source": [
    "# get data from files and convert to pandas\n",
    "\n",
    "import io\n",
    "\n",
    "fake_csv = io.TextIOWrapper(fake.open('fake.csv'))\n",
    "fnc_train_csvs = [io.TextIOWrapper(fnc.open('fnc-1-master/train_bodies.csv')), io.TextIOWrapper(fnc.open('fnc-1-master/train_stances.csv'))]\n",
    "fnc_test_csvs = [io.TextIOWrapper(fnc.open('fnc-1-master/test_bodies.csv')), io.TextIOWrapper(fnc.open('fnc-1-master/test_stances_unlabeled.csv'))]\n",
    "liar_train_tsv = io.TextIOWrapper(liar.open('train.tsv'))\n",
    "liar_test_tsv = io.TextIOWrapper(liar.open('test.tsv'))  \n",
    "\n",
    "import pandas as p\n",
    "\n",
    "fake_df = p.read_csv(fake_csv)\n",
    "fnc_train_dfs = [p.read_csv(fnc_train_csvs[0]), p.read_csv(fnc_train_csvs[1])]\n",
    "fnc_test_dfs = [p.read_csv(fnc_test_csvs[0]), p.read_csv(fnc_test_csvs[1])]\n",
    "liar_train_df = p.read_table(liar_train_tsv,\n",
    "                             names = ['id','label','statement',\n",
    "                                      'subject','speaker','job',\n",
    "                                      'state','party','barely_true_c',\n",
    "                                      'false_c','half_true_c','mostly_true_c',\n",
    "                                      'pants_on_fire_c','venue'])\n",
    "liar_test_df = p.read_table(liar_test_tsv,\n",
    "                             names = ['id','label','statement',\n",
    "                                      'subject','speaker','job',\n",
    "                                      'state','party','barely_true_c',\n",
    "                                      'false_c','half_true_c','mostly_true_c',\n",
    "                                      'pants_on_fire_c','venue'])\n",
    "\n",
    "import json\n",
    "feverlines = [json.loads(line) for line in fever.text.splitlines()]\n",
    "fever_df = p.DataFrame(feverlines)"
   ]
  },
  {
   "cell_type": "code",
   "execution_count": 304,
   "metadata": {},
   "outputs": [
    {
     "name": "stdout",
     "output_type": "stream",
     "text": [
      "Columns\n",
      "Fake:\n",
      "Index(['uuid', 'ord_in_thread', 'author', 'published', 'title', 'text',\n",
      "       'language', 'crawled', 'site_url', 'country', 'domain_rank',\n",
      "       'thread_title', 'spam_score', 'main_img_url', 'replies_count',\n",
      "       'participants_count', 'likes', 'comments', 'shares', 'type'],\n",
      "      dtype='object')\n",
      "\n",
      "FNC bodies:\n",
      "Index(['Body ID', 'articleBody'], dtype='object')\n",
      "\n",
      "FNC stances:\n",
      "Index(['Headline', 'Body ID', 'Stance'], dtype='object')\n",
      "\n",
      "Liar:\n",
      "Index(['id', 'label', 'statement', 'subject', 'speaker', 'job', 'state',\n",
      "       'party', 'barely_true_c', 'false_c', 'half_true_c', 'mostly_true_c',\n",
      "       'pants_on_fire_c', 'venue'],\n",
      "      dtype='object')\n",
      "\\FEVER:\n",
      "Index(['id', 'label', 'claim', 'evidence', 'original_id', 'transformation',\n",
      "       'attack', 'annotation'],\n",
      "      dtype='object')\n"
     ]
    }
   ],
   "source": [
    "print('Columns\\nFake:')\n",
    "print(fake_df.columns)\n",
    "print('\\nFNC bodies:')\n",
    "print(fnc_train_dfs[0].columns)\n",
    "print('\\nFNC stances:')\n",
    "print(fnc_train_dfs[1].columns)\n",
    "print('\\nLiar:')\n",
    "print(liar_train_df.columns)\n",
    "print('\\FEVER:')\n",
    "print(fever_df.columns)"
   ]
  },
  {
   "cell_type": "code",
   "execution_count": 277,
   "metadata": {},
   "outputs": [
    {
     "name": "stdout",
     "output_type": "stream",
     "text": [
      "Shapes\n",
      "Fake:\n",
      "(12999, 20)\n",
      "\n",
      "FNC bodies train:\n",
      "(1683, 2)\n",
      "\n",
      "FNC stances train:\n",
      "(49972, 3)\n",
      "\n",
      "FNC bodies test:\n",
      "(904, 2)\n",
      "\n",
      "FNC stances test:\n",
      "(25413, 2)\n",
      "\n",
      "Liar train:\n",
      "(10240, 14)\n",
      "\n",
      "Liar test:\n",
      "(1267, 14)\n",
      "\n",
      "FEVER:\n",
      "(1174, 8)\n"
     ]
    }
   ],
   "source": [
    "print('Shapes\\nFake:')\n",
    "print(fake_df.shape)\n",
    "print('\\nFNC bodies train:')\n",
    "print(fnc_train_dfs[0].shape)\n",
    "print('\\nFNC stances train:')\n",
    "print(fnc_train_dfs[1].shape)\n",
    "print('\\nFNC bodies test:')\n",
    "print(fnc_test_dfs[0].shape)\n",
    "print('\\nFNC stances test:')\n",
    "print(fnc_test_dfs[1].shape)\n",
    "print('\\nLiar train:')\n",
    "print(liar_train_df.shape)\n",
    "print('\\nLiar test:')\n",
    "print(liar_test_df.shape)\n",
    "print('\\nFEVER:')\n",
    "print(fever_df.shape)"
   ]
  },
  {
   "cell_type": "code",
   "execution_count": 305,
   "metadata": {},
   "outputs": [],
   "source": [
    "# time to clean!\n",
    "\n",
    "import numpy as np\n",
    "\n",
    "fake_df = fake_df.drop('main_img_url', axis = 1)\n"
   ]
  },
  {
   "cell_type": "code",
   "execution_count": 279,
   "metadata": {},
   "outputs": [],
   "source": [
    "fake_df.domain_rank = fake_df.domain_rank.fillna(np.average(fake_pd.domain_rank.dropna()))"
   ]
  },
  {
   "cell_type": "code",
   "execution_count": 280,
   "metadata": {},
   "outputs": [],
   "source": [
    "fake_df.author = fake_df.author.fillna('')\n",
    "fake_df.title = fake_df.title.fillna('')\n",
    "fake_df.thread_title = fake_df.thread_title.fillna('')\n",
    "fake_df.country = fake_df.country.fillna('')\n",
    "fake_df.text = fake_df.text.fillna('')"
   ]
  },
  {
   "cell_type": "code",
   "execution_count": 290,
   "metadata": {},
   "outputs": [],
   "source": [
    "liar_train_df = liar_train_df.dropna(subset=['subject'])\n",
    "\n",
    "liar_train_df.job = liar_train_df.job.fillna('')\n",
    "liar_test_df.job = liar_test_df.job.fillna('')\n",
    "liar_train_df.state = liar_train_df.state.fillna('')\n",
    "liar_test_df.state = liar_test_df.state.fillna('')\n",
    "liar_train_df.venue = liar_train_df.venue.fillna('')\n",
    "liar_test_df.venue = liar_test_df.venue.fillna('')\n",
    "\n",
    "fever_df.transformation = fever_df.transformation.fillna('')\n",
    "fever_df.original_id = fever_df.original_id.fillna('')"
   ]
  },
  {
   "cell_type": "code",
   "execution_count": 291,
   "metadata": {},
   "outputs": [
    {
     "name": "stdout",
     "output_type": "stream",
     "text": [
      "Missing Data\n",
      "Fake:\n",
      "uuid                  0\n",
      "ord_in_thread         0\n",
      "author                0\n",
      "published             0\n",
      "title                 0\n",
      "text                  0\n",
      "language              0\n",
      "crawled               0\n",
      "site_url              0\n",
      "country               0\n",
      "domain_rank           0\n",
      "thread_title          0\n",
      "spam_score            0\n",
      "replies_count         0\n",
      "participants_count    0\n",
      "likes                 0\n",
      "comments              0\n",
      "shares                0\n",
      "type                  0\n",
      "dtype: int64\n",
      "\n",
      "FNC bodies train:\n",
      "Body ID        0\n",
      "articleBody    0\n",
      "dtype: int64\n",
      "\n",
      "FNC stances train:\n",
      "Headline    0\n",
      "Body ID     0\n",
      "Stance      0\n",
      "dtype: int64\n",
      "\n",
      "FNC bodies test:\n",
      "Body ID        0\n",
      "articleBody    0\n",
      "dtype: int64\n",
      "\n",
      "FNC stances test:\n",
      "Headline    0\n",
      "Body ID     0\n",
      "dtype: int64\n",
      "\n",
      "Liar train:\n",
      "id                 0\n",
      "label              0\n",
      "statement          0\n",
      "subject            0\n",
      "speaker            0\n",
      "job                0\n",
      "state              0\n",
      "party              0\n",
      "barely_true_c      0\n",
      "false_c            0\n",
      "half_true_c        0\n",
      "mostly_true_c      0\n",
      "pants_on_fire_c    0\n",
      "venue              0\n",
      "dtype: int64\n",
      "\n",
      "Liar test:\n",
      "id                 0\n",
      "label              0\n",
      "statement          0\n",
      "subject            0\n",
      "speaker            0\n",
      "job                0\n",
      "state              0\n",
      "party              0\n",
      "barely_true_c      0\n",
      "false_c            0\n",
      "half_true_c        0\n",
      "mostly_true_c      0\n",
      "pants_on_fire_c    0\n",
      "venue              0\n",
      "dtype: int64\n",
      "\n",
      "FEVER:\n",
      "id                0\n",
      "label             0\n",
      "claim             0\n",
      "evidence          0\n",
      "original_id       0\n",
      "transformation    0\n",
      "attack            0\n",
      "annotation        0\n",
      "dtype: int64\n"
     ]
    }
   ],
   "source": [
    "# all clean\n",
    "\n",
    "print('Missing Data\\nFake:')\n",
    "print(fake_df.isnull().sum())\n",
    "print('\\nFNC bodies train:')\n",
    "print(fnc_train_dfs[0].isnull().sum())\n",
    "print('\\nFNC stances train:')\n",
    "print(fnc_train_dfs[1].isnull().sum())\n",
    "print('\\nFNC bodies test:')\n",
    "print(fnc_test_dfs[0].isnull().sum())\n",
    "print('\\nFNC stances test:')\n",
    "print(fnc_test_dfs[1].isnull().sum())\n",
    "print('\\nLiar train:')\n",
    "print(liar_train_df.isnull().sum())\n",
    "print('\\nLiar test:')\n",
    "print(liar_test_df.isnull().sum())\n",
    "print('\\nFEVER:')\n",
    "print(fever_df.isnull().sum())"
   ]
  },
  {
   "cell_type": "code",
   "execution_count": 292,
   "metadata": {},
   "outputs": [
    {
     "data": {
      "text/plain": [
       "<matplotlib.axes._subplots.AxesSubplot at 0x12f4d3f90>"
      ]
     },
     "execution_count": 292,
     "metadata": {},
     "output_type": "execute_result"
    },
    {
     "data": {
      "image/png": "[encoded data removed]",
      "text/plain": [
       "<Figure size 432x288 with 1 Axes>"
      ]
     },
     "metadata": {
      "needs_background": "light"
     },
     "output_type": "display_data"
    }
   ],
   "source": [
    "import matplotlib.pyplot as plt\n",
    "%matplotlib inline\n",
    "\n",
    "fake_df.plot(x='spam_score', y='domain_rank', kind='scatter')"
   ]
  },
  {
   "cell_type": "code",
   "execution_count": 296,
   "metadata": {},
   "outputs": [
    {
     "data": {
      "text/plain": [
       "<matplotlib.axes._subplots.AxesSubplot at 0x118981150>"
      ]
     },
     "execution_count": 296,
     "metadata": {},
     "output_type": "execute_result"
    },
    {
     "data": {
      "image/png": "[encoded data removed]",
      "text/plain": [
       "<Figure size 432x288 with 1 Axes>"
      ]
     },
     "metadata": {
      "needs_background": "light"
     },
     "output_type": "display_data"
    }
   ],
   "source": [
    "fnc_train_dfs[1].plot(x='Stance', kind='hist')"
   ]
  },
  {
   "cell_type": "code",
   "execution_count": 300,
   "metadata": {},
   "outputs": [
    {
     "data": {
      "text/plain": [
       "<matplotlib.axes._subplots.AxesSubplot at 0x140612a10>"
      ]
     },
     "execution_count": 300,
     "metadata": {},
     "output_type": "execute_result"
    },
    {
     "data": {
      "image/png": "[encoded data removed]",
      "text/plain": [
       "<Figure size 432x288 with 1 Axes>"
      ]
     },
     "metadata": {
      "needs_background": "light"
     },
     "output_type": "display_data"
    }
   ],
   "source": [
    "liar_train_df.plot(x='barely_true_c', kind='hist')"
   ]
  },
  {
   "cell_type": "code",
   "execution_count": 301,
   "metadata": {},
   "outputs": [
    {
     "data": {
      "text/plain": [
       "<matplotlib.axes._subplots.AxesSubplot at 0x11dcc7a90>"
      ]
     },
     "execution_count": 301,
     "metadata": {},
     "output_type": "execute_result"
    },
    {
     "data": {
      "image/png": "[encoded data removed]",
      "text/plain": [
       "<Figure size 432x288 with 1 Axes>"
      ]
     },
     "metadata": {
      "needs_background": "light"
     },
     "output_type": "display_data"
    }
   ],
   "source": [
    "liar_train_df.plot(x='pants_on_fire_c', kind='hist')"
   ]
  },
  {
   "cell_type": "code",
   "execution_count": 302,
   "metadata": {},
   "outputs": [
    {
     "data": {
      "text/plain": [
       "0                          [[[269158, None, None, None]]]\n",
       "1                     [[[141141, 156349, Simon_Pegg, 0]]]\n",
       "2       [[[25977, 31918, Exotic_Birds, 2], [25977, 319...\n",
       "3       [[[None, None, The_Nice_Guys, 0], [None, None,...\n",
       "4       [[[None, None, Rupert_Murdoch, 1], [None, None...\n",
       "                              ...                        \n",
       "1169      [[[179017, None, Macklemore_&_Ryan_Lewis, -1]]]\n",
       "1170                [[[24966, 30831, Stomp_the_Yard, 0]]]\n",
       "1171       [[[49192, 58517, Meteora_-LRB-horse-RRB-, 0]]]\n",
       "1172    [[[238922, 240894, The_Chaperone_-LRB-film-RRB...\n",
       "1173     [[[93188, 106109, Night_of_the_Living_Dead, 0]]]\n",
       "Name: evidence, Length: 1174, dtype: object"
      ]
     },
     "execution_count": 302,
     "metadata": {},
     "output_type": "execute_result"
    }
   ],
   "source": [
    "fever_df.evidence"
   ]
  },
  {
   "cell_type": "code",
   "execution_count": null,
   "metadata": {},
   "outputs": [],
   "source": []
  }
 ],
 "metadata": {
  "kernelspec": {
   "display_name": "Python 3",
   "language": "python",
   "name": "python3"
  },
  "language_info": {
   "codemirror_mode": {
    "name": "ipython",
    "version": 3
   },
   "file_extension": ".py",
   "mimetype": "text/x-python",
   "name": "python",
   "nbconvert_exporter": "python",
   "pygments_lexer": "ipython3",
   "version": "3.7.4"
  }
 },
 "nbformat": 4,
 "nbformat_minor": 2
}
