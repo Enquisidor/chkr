{
 "cells": [
  {
   "cell_type": "code",
   "execution_count": 52,
   "metadata": {},
   "outputs": [
    {
     "name": "stdout",
     "output_type": "stream",
     "text": [
      "File Name                                             Modified             Size\n",
      "README                                         2017-04-23 03:33:54         1670\n",
      "test.tsv                                       2017-04-23 03:21:28       301118\n",
      "train.tsv                                      2017-04-23 03:21:12      2408165\n",
      "valid.tsv                                      2017-04-23 03:21:22       301556\n",
      "\n",
      "\n",
      "\n",
      "Liar train:\n",
      "Index(['id', 'label', 'statement', 'subject', 'speaker', 'job', 'state',\n",
      "       'party', 'barely_true_c', 'false_c', 'half_true_c', 'mostly_true_c',\n",
      "       'pants_on_fire_c', 'venue'],\n",
      "      dtype='object')\n",
      "\n",
      "Liar test:\n",
      "Index(['id', 'label', 'statement', 'subject', 'speaker', 'job', 'state',\n",
      "       'party', 'barely_true_c', 'false_c', 'half_true_c', 'mostly_true_c',\n",
      "       'pants_on_fire_c', 'venue'],\n",
      "      dtype='object')\n",
      "\n",
      "Liar train:\n",
      "(10240, 14)\n",
      "\n",
      "Liar test:\n",
      "(1267, 14)\n",
      "\n",
      "Liar train:\n",
      "id                 0\n",
      "label              0\n",
      "statement          0\n",
      "subject            0\n",
      "speaker            0\n",
      "job                0\n",
      "state              0\n",
      "party              0\n",
      "barely_true_c      0\n",
      "false_c            0\n",
      "half_true_c        0\n",
      "mostly_true_c      0\n",
      "pants_on_fire_c    0\n",
      "venue              0\n",
      "dtype: int64\n",
      "\n",
      "Liar test:\n",
      "id                 0\n",
      "label              0\n",
      "statement          0\n",
      "subject            0\n",
      "speaker            0\n",
      "job                0\n",
      "state              0\n",
      "party              0\n",
      "barely_true_c      0\n",
      "false_c            0\n",
      "half_true_c        0\n",
      "mostly_true_c      0\n",
      "pants_on_fire_c    0\n",
      "venue              0\n",
      "dtype: int64\n",
      "\n",
      "Liar train:\n",
      "(8920, 14)\n",
      "\n",
      "Liar test:\n",
      "(1111, 14)\n"
     ]
    }
   ],
   "source": [
    "%run 'Load & Clean Liar'.ipynb"
   ]
  },
  {
   "cell_type": "code",
   "execution_count": 53,
   "metadata": {},
   "outputs": [],
   "source": [
    "liar_train_df['score'] = (liar_train_df.mostly_true_c * 0.9 + liar_train_df.half_true_c * 0.5 + \\\n",
    "                        liar_train_df.barely_true_c * 0.2 + liar_train_df.false_c * -1 + \\\n",
    "                        liar_train_df.pants_on_fire_c * -2).astype('int')\n",
    "\n",
    "liar_test_df['score'] = (liar_test_df.mostly_true_c * 0.9 + liar_test_df.half_true_c * 0.5 + \\\n",
    "                        liar_test_df.barely_true_c * 0.2 + liar_test_df.false_c * -1 + \\\n",
    "                        liar_test_df.pants_on_fire_c * -2).astype('int')"
   ]
  },
  {
   "cell_type": "code",
   "execution_count": 54,
   "metadata": {},
   "outputs": [],
   "source": [
    "liar_train_df = liar_train_df.drop('mostly_true_c', axis=1)\n",
    "liar_train_df = liar_train_df.drop('half_true_c', axis=1)\n",
    "liar_train_df = liar_train_df.drop('barely_true_c', axis=1)\n",
    "liar_train_df = liar_train_df.drop('false_c', axis=1)\n",
    "liar_train_df = liar_train_df.drop('pants_on_fire_c', axis=1)"
   ]
  },
  {
   "cell_type": "code",
   "execution_count": 55,
   "metadata": {},
   "outputs": [],
   "source": [
    "liar_test_df = liar_test_df.drop('mostly_true_c', axis=1)\n",
    "liar_test_df = liar_test_df.drop('half_true_c', axis=1)\n",
    "liar_test_df = liar_test_df.drop('barely_true_c', axis=1)\n",
    "liar_test_df = liar_test_df.drop('false_c', axis=1)\n",
    "liar_test_df = liar_test_df.drop('pants_on_fire_c', axis=1)"
   ]
  },
  {
   "cell_type": "code",
   "execution_count": 56,
   "metadata": {},
   "outputs": [
    {
     "data": {
      "text/plain": [
       "((8920, 10), (1111, 10))"
      ]
     },
     "execution_count": 56,
     "metadata": {},
     "output_type": "execute_result"
    }
   ],
   "source": [
    "liar_train_df.shape, liar_test_df.shape"
   ]
  },
  {
   "cell_type": "code",
   "execution_count": 57,
   "metadata": {},
   "outputs": [],
   "source": [
    "train_subj_columns = liar_train_df['subject'].str.split(',', expand=True).rename(columns=lambda x: f\"subj_{x+1}\")\n",
    "test_subj_columns = liar_test_df['subject'].str.split(',', expand=True).rename(columns=lambda x: f\"subj_{x+1}\")"
   ]
  },
  {
   "cell_type": "code",
   "execution_count": 58,
   "metadata": {},
   "outputs": [
    {
     "name": "stdout",
     "output_type": "stream",
     "text": [
      "             label                                          statement  \\\n",
      "0            false  Says the Annies List political group supports ...   \n",
      "1        half-true  When did the decline of coal start? It started...   \n",
      "3            false  Health care reform legislation is likely to ma...   \n",
      "4        half-true  The economic turnaround started at the end of ...   \n",
      "5             true  The Chicago Bears have had more starting quart...   \n",
      "...            ...                                                ...   \n",
      "10235  mostly-true  There are a larger number of shark attacks in ...   \n",
      "10236  mostly-true  Democrats have now become the party of the [At...   \n",
      "10237    half-true  Says an alternative to Social Security that op...   \n",
      "10238        false  On lifting the U.S. Cuban embargo and allowing...   \n",
      "10239   pants-fire  The Department of Veterans Affairs has a manua...   \n",
      "\n",
      "              speaker                                            job  \\\n",
      "0        dwayne-bohac                           State representative   \n",
      "1      scott-surovell                                 State delegate   \n",
      "3        blog-posting                                            NaN   \n",
      "4       charlie-crist                                            NaN   \n",
      "5           robin-vos                     Wisconsin Assembly speaker   \n",
      "...               ...                                            ...   \n",
      "10235    aclu-florida                                            NaN   \n",
      "10236     alan-powell                                            NaN   \n",
      "10237     herman-cain                                            NaN   \n",
      "10238     jeff-greene                                            NaN   \n",
      "10239  michael-steele  chairman of the Republican National Committee   \n",
      "\n",
      "           state       party  \\\n",
      "0          Texas  republican   \n",
      "1       Virginia    democrat   \n",
      "3            NaN        none   \n",
      "4        Florida    democrat   \n",
      "5      Wisconsin  republican   \n",
      "...          ...         ...   \n",
      "10235    Florida        none   \n",
      "10236    Georgia  republican   \n",
      "10237    Georgia  republican   \n",
      "10238    Florida    democrat   \n",
      "10239   Maryland  republican   \n",
      "\n",
      "                                                   venue  score       subj_1  \\\n",
      "0                                               a mailer     -1     abortion   \n",
      "1                                        a floor speech.      1       energy   \n",
      "3                                         a news release    -99  health-care   \n",
      "4                                    an interview on CNN     17      economy   \n",
      "5                              a an online opinion-piece      0    education   \n",
      "...                                                  ...    ...          ...   \n",
      "10235                  interview on \"The Colbert Report\"      0      animals   \n",
      "10236                                       an interview      0    elections   \n",
      "10237                   a Republican presidential debate    -11   retirement   \n",
      "10238  a televised debate on Miami's WPLG-10 against ...      1      florida   \n",
      "10239                               a Fox News interview     -4  health-care   \n",
      "\n",
      "                subj_2  ... subj_11 subj_12 subj_13 subj_14 subj_15 subj_16  \\\n",
      "0                  NaN  ...     NaN     NaN     NaN     NaN     NaN     NaN   \n",
      "1              history  ...     NaN     NaN     NaN     NaN     NaN     NaN   \n",
      "3                  NaN  ...     NaN     NaN     NaN     NaN     NaN     NaN   \n",
      "4                 jobs  ...     NaN     NaN     NaN     NaN     NaN     NaN   \n",
      "5                  NaN  ...     NaN     NaN     NaN     NaN     NaN     NaN   \n",
      "...                ...  ...     ...     ...     ...     ...     ...     ...   \n",
      "10235        elections  ...     NaN     NaN     NaN     NaN     NaN     NaN   \n",
      "10236              NaN  ...     NaN     NaN     NaN     NaN     NaN     NaN   \n",
      "10237  social-security  ...     NaN     NaN     NaN     NaN     NaN     NaN   \n",
      "10238   foreign-policy  ...     NaN     NaN     NaN     NaN     NaN     NaN   \n",
      "10239         veterans  ...     NaN     NaN     NaN     NaN     NaN     NaN   \n",
      "\n",
      "      subj_17 subj_18 subj_19 subj_20  \n",
      "0         NaN     NaN     NaN     NaN  \n",
      "1         NaN     NaN     NaN     NaN  \n",
      "3         NaN     NaN     NaN     NaN  \n",
      "4         NaN     NaN     NaN     NaN  \n",
      "5         NaN     NaN     NaN     NaN  \n",
      "...       ...     ...     ...     ...  \n",
      "10235     NaN     NaN     NaN     NaN  \n",
      "10236     NaN     NaN     NaN     NaN  \n",
      "10237     NaN     NaN     NaN     NaN  \n",
      "10238     NaN     NaN     NaN     NaN  \n",
      "10239     NaN     NaN     NaN     NaN  \n",
      "\n",
      "[8920 rows x 28 columns]\n"
     ]
    }
   ],
   "source": [
    "for column in train_subj_columns.columns:\n",
    "    liar_train_df[column] = train_subj_columns[column]\n",
    "liar_train_df = liar_train_df.drop('subject', axis=1)\n",
    "\n",
    "for column in test_subj_columns.columns:\n",
    "    liar_test_df[column] = test_subj_columns[column]\n",
    "liar_test_df = liar_test_df.drop('subject', axis=1)\n",
    "\n",
    "liar_train_df = liar_train_df.replace(r'^\\s*$', np.nan, regex=True)\n",
    "liar_train_df.fillna(value=np.nan, inplace=True)\n",
    "\n",
    "liar_test_df = liar_test_df.replace(r'^\\s*$', np.nan, regex=True)\n",
    "liar_test_df.fillna(value=np.nan, inplace=True)\n",
    "\n",
    "liar_train_df = liar_train_df.drop('id', axis=1)\n",
    "liar_test_df = liar_test_df.drop('id', axis=1)\n",
    "\n",
    "print(liar_train_df)"
   ]
  },
  {
   "cell_type": "code",
   "execution_count": 59,
   "metadata": {},
   "outputs": [],
   "source": [
    "liar_df = liar_train_df.append(liar_test_df)\n",
    "\n",
    "liar_df_cleaned = liar_df.drop('statement', axis=1)\n",
    "\n",
    "liar_df_cleaned.label = liar_df_cleaned.label.astype('category').cat.codes\n",
    "liar_df_cleaned.speaker = liar_df_cleaned.speaker.astype('category').cat.codes\n",
    "liar_df_cleaned.venue = liar_df_cleaned.venue.astype('category').cat.codes\n",
    "liar_df_cleaned.job = liar_df_cleaned.job.astype('category').cat.codes\n",
    "liar_df_cleaned.state = liar_df_cleaned.state.astype('category').cat.codes\n",
    "liar_df_cleaned.party = liar_df_cleaned.party.astype('category').cat.codes\n",
    "\n",
    "for i in range(1,21):\n",
    "    liar_df_cleaned[f'subj_{i}'] = liar_df_cleaned[f'subj_{i}'].astype('category').cat.codes"
   ]
  },
  {
   "cell_type": "code",
   "execution_count": 60,
   "metadata": {},
   "outputs": [],
   "source": [
    "#~~~~~~~~~~~~~~~~~~~~~~~~~~~~~\n",
    "# Keras models\n",
    "#~~~~~~~~~~~~~~~~~~~~~~~~~~~~~"
   ]
  },
  {
   "cell_type": "code",
   "execution_count": 61,
   "metadata": {},
   "outputs": [],
   "source": [
    "from keras import Sequential\n",
    "from keras.layers import Dense\n",
    "from keras.callbacks import EarlyStopping\n",
    "import tensorflow as tf\n",
    "import numpy as np\n",
    "\n",
    "early_stopping_monitor = EarlyStopping(patience=5, monitor='accuracy')\n",
    "liar_target = liar_df_cleaned.pop('score')"
   ]
  },
  {
   "cell_type": "code",
   "execution_count": 73,
   "metadata": {},
   "outputs": [
    {
     "ename": "NameError",
     "evalue": "name 'Trials' is not defined",
     "output_type": "error",
     "traceback": [
      "\u001b[0;31m---------------------------------------------------------------------------\u001b[0m",
      "\u001b[0;31mNameError\u001b[0m                                 Traceback (most recent call last)",
      "\u001b[0;32m<ipython-input-73-0d8ba27de5ca>\u001b[0m in \u001b[0;36m<module>\u001b[0;34m\u001b[0m\n\u001b[1;32m     31\u001b[0m best_run = optim.minimize(model=create_model,\n\u001b[1;32m     32\u001b[0m                           \u001b[0mmax_evals\u001b[0m\u001b[0;34m=\u001b[0m\u001b[0;36m10\u001b[0m\u001b[0;34m,\u001b[0m\u001b[0;34m\u001b[0m\u001b[0;34m\u001b[0m\u001b[0m\n\u001b[0;32m---> 33\u001b[0;31m                           trials=Trials())\n\u001b[0m",
      "\u001b[0;31mNameError\u001b[0m: name 'Trials' is not defined"
     ]
    }
   ],
   "source": [
    "from keras.layers import Dropout, BatchNormalization\n",
    "from keras.optimizers import SGD\n",
    "from hyperas.distributions import uniform\n",
    "from hyperas import optim\n",
    "from hyperopt import Trials, STATUS_OK, tpe\n",
    "\n",
    "def create_model():\n",
    "    tf.compat.v1.reset_default_graph()\n",
    "\n",
    "    opt = SGD(lr=1e-4)\n",
    "\n",
    "    tf.keras.backend.set_floatx('float64')\n",
    "\n",
    "    liar_NN_3 = Sequential()\n",
    "    liar_NN_3.add(Dense(256, activation='softmax'))\n",
    "    liar_NN_3.add(Dropout({{uniform(0, 1)}}))\n",
    "    liar_NN_3.add(BatchNormalization())\n",
    "    liar_NN_3.add(Dense(128, activation='relu'))\n",
    "    liar_NN_3.add(Dropout({{uniform(0, 1)}}))\n",
    "    liar_NN_3.add(BatchNormalization())\n",
    "    liar_NN_3.add(Dense(64, activation='sigmoid'))\n",
    "    liar_NN_3.add(Dropout({{uniform(0, 1)}}))\n",
    "    liar_NN_3.add(BatchNormalization())\n",
    "    liar_NN_3.add(Dense(32, activation='relu'))\n",
    "    liar_NN_3.add(Dropout({{uniform(0, 1)}}))\n",
    "    liar_NN_3.add(BatchNormalization())\n",
    "    liar_NN_3.add(Dense(1, activation='relu'))\n",
    "\n",
    "    liar_NN_3.compile(optimizer = opt, loss=tf.keras.losses.BinaryCrossentropy(from_logits=True), metrics=['accuracy'])\n",
    "    history_3 = liar_NN_3.fit(liar_df_cleaned, liar_target, epochs=100, callbacks=[early_stopping_monitor], verbose=True)\n",
    "    \n",
    "best_run = optim.minimize(model=create_model,\n",
    "                          max_evals=10,\n",
    "                          trials=Trials())"
   ]
  },
  {
   "cell_type": "code",
   "execution_count": 69,
   "metadata": {},
   "outputs": [
    {
     "data": {
      "image/png": "[encoded data removed]",
      "text/plain": [
       "<Figure size 432x288 with 1 Axes>"
      ]
     },
     "metadata": {
      "needs_background": "light"
     },
     "output_type": "display_data"
    },
    {
     "data": {
      "image/png": "[encoded data removed]",
      "text/plain": [
       "<Figure size 432x288 with 1 Axes>"
      ]
     },
     "metadata": {
      "needs_background": "light"
     },
     "output_type": "display_data"
    }
   ],
   "source": [
    "from matplotlib import pyplot as plt\n",
    "\n",
    "# Create the plot\n",
    "plt.plot(history_3.history['loss'], 'g')\n",
    "plt.xlabel('Epochs')\n",
    "plt.ylabel('loss')\n",
    "plt.show()\n",
    "\n",
    "plt.plot(history_3.history['accuracy'], 'r')\n",
    "plt.xlabel('Epochs')\n",
    "plt.ylabel('accuracy')\n",
    "plt.show()"
   ]
  },
  {
   "cell_type": "code",
   "execution_count": null,
   "metadata": {},
   "outputs": [],
   "source": []
  }
 ],
 "metadata": {
  "kernelspec": {
   "display_name": "Python 3",
   "language": "python",
   "name": "python3"
  },
  "language_info": {
   "codemirror_mode": {
    "name": "ipython",
    "version": 3
   },
   "file_extension": ".py",
   "mimetype": "text/x-python",
   "name": "python",
   "nbconvert_exporter": "python",
   "pygments_lexer": "ipython3",
   "version": "3.7.6"
  }
 },
 "nbformat": 4,
 "nbformat_minor": 2
}
