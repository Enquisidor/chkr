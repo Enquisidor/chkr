{
 "cells": [
  {
   "cell_type": "code",
   "execution_count": 2,
   "metadata": {},
   "outputs": [
    {
     "name": "stdout",
     "output_type": "stream",
     "text": [
      "File Name                                             Modified             Size\n",
      "fake.csv                                       2019-09-20 02:14:32     56680002\n",
      "\n",
      "\n",
      "File Name                                             Modified             Size\n",
      "fnc-1-master/                                  2017-06-14 23:58:08            0\n",
      "fnc-1-master/README.md                         2017-06-14 23:58:08          962\n",
      "fnc-1-master/competition_test_bodies.csv       2017-06-14 23:58:08      2045680\n",
      "fnc-1-master/competition_test_stances.csv      2017-06-14 23:58:08      2177588\n",
      "fnc-1-master/competition_test_stances_unlabeled.csv 2017-06-14 23:58:08      1940688\n",
      "fnc-1-master/scorer.py                         2017-06-14 23:58:08         4617\n",
      "fnc-1-master/test_bodies.csv                   2017-06-14 23:58:08      2045680\n",
      "fnc-1-master/test_stances_unlabeled.csv        2017-06-14 23:58:08      1940688\n",
      "fnc-1-master/train_bodies.csv                  2017-06-14 23:58:08      3752301\n",
      "fnc-1-master/train_stances.csv                 2017-06-14 23:58:08      4255300\n",
      "fnc-1-master/train_stances.random.csv          2017-06-14 23:58:08      4201299\n",
      "\n",
      "\n",
      "File Name                                             Modified             Size\n",
      "README                                         2017-04-23 03:33:54         1670\n",
      "test.tsv                                       2017-04-23 03:21:28       301118\n",
      "train.tsv                                      2017-04-23 03:21:12      2408165\n",
      "valid.tsv                                      2017-04-23 03:21:22       301556\n",
      "\n",
      "\n",
      "File Name                                             Modified             Size\n",
      "PHEME_veracity.tar.bz2                         2020-03-30 20:04:58     46529729\n",
      "convert_veracity_annotations.py                2020-03-30 20:04:58         1728\n",
      "\n",
      "\n",
      "File Name                                             Modified             Size\n",
      "emergent.csv                                   2019-09-20 11:24:30      1681978\n",
      "politifact.csv                                 2019-09-20 11:24:30      1745905\n",
      "snopes.csv                                     2019-09-20 11:24:30      6191626\n",
      "\n",
      "\n",
      "<Response [200]>\n"
     ]
    }
   ],
   "source": [
    "# sources:\n",
    "# MultiFC - evidence based fact checking: https://competitions.codalab.org/competitions/21163 (pending)\n",
    "# PHEME - rumour detection: https://figshare.com/articles/PHEME_dataset_for_Rumour_Detection_and_Veracity_Classification/6392078\n",
    "# Fake news: https://www.kaggle.com/mrisdal/fake-news\n",
    "# Liar, Liar Pants On Fire - fake news: https://github.com/thiagorainmaker77/liar_dataset\n",
    "# Fake News Challenge: https://github.com/FakeNewsChallenge/fnc-1-baseline \n",
    "# Fever - fake news workshops: https://fever.ai/\n",
    "# Rumor- https://www.kaggle.com/arminehn/rumor-citation\n",
    "\n",
    "#import files\n",
    "import zipfile, tarfile\n",
    "import requests\n",
    "\n",
    "fake = zipfile.ZipFile('../data/fake-news.zip', 'r')\n",
    "fnc = zipfile.ZipFile('../data/fnc-1-master.zip', 'r')\n",
    "liar = zipfile.ZipFile('../data/liar_dataset.zip', 'r')\n",
    "pheme = zipfile.ZipFile('../data/PHEME.zip', 'r')\n",
    "fever = requests.get('https://s3-eu-west-1.amazonaws.com/fever.public/fever2-fixers-dev.jsonl')\n",
    "rumor = zipfile.ZipFile('../data/rumor-citation.zip', 'r')\n",
    "\n",
    "zips = [fake, fnc, liar, pheme, rumor]\n",
    "for file in zips:\n",
    "    file.printdir()\n",
    "    print('\\n')\n",
    "\n",
    "pheme_tar = tarfile.open(pheme.extract('PHEME_veracity.tar.bz2'))\n",
    "    \n",
    "print(fever)"
   ]
  },
  {
   "cell_type": "code",
   "execution_count": 3,
   "metadata": {},
   "outputs": [],
   "source": [
    "# get data from files and convert to pandas\n",
    "\n",
    "import io\n",
    "\n",
    "fake_csv = io.TextIOWrapper(fake.open('fake.csv'))\n",
    "fnc_train_csvs = [io.TextIOWrapper(fnc.open('fnc-1-master/train_bodies.csv')), io.TextIOWrapper(fnc.open('fnc-1-master/train_stances.csv'))]\n",
    "fnc_test_csvs = [io.TextIOWrapper(fnc.open('fnc-1-master/test_bodies.csv')), io.TextIOWrapper(fnc.open('fnc-1-master/test_stances_unlabeled.csv'))]\n",
    "liar_train_tsv = io.TextIOWrapper(liar.open('train.tsv'))\n",
    "liar_test_tsv = io.TextIOWrapper(liar.open('test.tsv'))  \n",
    "rumor_csvs = io.TextIOWrapper(rumor.open('emergent.csv')), io.TextIOWrapper(rumor.open('politifact.csv')), io.TextIOWrapper(rumor.open('snopes.csv'))\n",
    "\n",
    "import pandas as p\n",
    "\n",
    "fake_df = p.read_csv(fake_csv)\n",
    "fnc_train_dfs = [p.read_csv(fnc_train_csvs[0]), p.read_csv(fnc_train_csvs[1])]\n",
    "fnc_test_dfs = [p.read_csv(fnc_test_csvs[0]), p.read_csv(fnc_test_csvs[1])]\n",
    "liar_train_df = p.read_table(liar_train_tsv,\n",
    "                             names = ['id','label','statement',\n",
    "                                      'subject','speaker','job',\n",
    "                                      'state','party','barely_true_c',\n",
    "                                      'false_c','half_true_c','mostly_true_c',\n",
    "                                      'pants_on_fire_c','venue'])\n",
    "liar_test_df = p.read_table(liar_test_tsv,\n",
    "                             names = ['id','label','statement',\n",
    "                                      'subject','speaker','job',\n",
    "                                      'state','party','barely_true_c',\n",
    "                                      'false_c','half_true_c','mostly_true_c',\n",
    "                                      'pants_on_fire_c','venue'])\n",
    "rumor_dfs = [p.read_csv(rumor_csvs[0]), p.read_csv(rumor_csvs[1]), p.read_csv(rumor_csvs[2])]\n",
    "\n",
    "import json\n",
    "feverlines = [json.loads(line) for line in fever.text.splitlines()]\n",
    "fever_df = p.DataFrame(feverlines)"
   ]
  },
  {
   "cell_type": "code",
   "execution_count": 4,
   "metadata": {},
   "outputs": [
    {
     "name": "stdout",
     "output_type": "stream",
     "text": [
      "Columns\n",
      "Fake:\n",
      "Index(['uuid', 'ord_in_thread', 'author', 'published', 'title', 'text',\n",
      "       'language', 'crawled', 'site_url', 'country', 'domain_rank',\n",
      "       'thread_title', 'spam_score', 'main_img_url', 'replies_count',\n",
      "       'participants_count', 'likes', 'comments', 'shares', 'type'],\n",
      "      dtype='object')\n",
      "\n",
      "FNC bodies:\n",
      "Index(['Body ID', 'articleBody'], dtype='object')\n",
      "\n",
      "FNC stances:\n",
      "Index(['Headline', 'Body ID', 'Stance'], dtype='object')\n",
      "\n",
      "Liar:\n",
      "Index(['id', 'label', 'statement', 'subject', 'speaker', 'job', 'state',\n",
      "       'party', 'barely_true_c', 'false_c', 'half_true_c', 'mostly_true_c',\n",
      "       'pants_on_fire_c', 'venue'],\n",
      "      dtype='object')\n",
      "\\FEVER:\n",
      "Index(['id', 'label', 'claim', 'evidence', 'original_id', 'transformation',\n",
      "       'attack', 'annotation'],\n",
      "      dtype='object')\n",
      "\n",
      "Rumor Citation Emergent:\n",
      "Index(['emergent_page', 'claim', 'claim_description', 'claim_label', 'tags',\n",
      "       'claim_source_domain', 'claim_course_url', 'date', 'body',\n",
      "       'page_domain', 'page_url', 'page_headline', 'page_position',\n",
      "       'page_shares', 'page_order'],\n",
      "      dtype='object')\n",
      "\n",
      "Rumor Citation Politifact:\n",
      "Index(['politifact_page', 'claim', 'claim_source', 'claim_citation',\n",
      "       'claim_label', 'date_published', 'researched_by', 'edited_by', 'tags',\n",
      "       'page_citation', 'page_url', 'page_is_first_citation'],\n",
      "      dtype='object')\n",
      "\n",
      "Rumor Citation Snopes:\n",
      "Index(['snopes_page', 'topic', 'claim', 'claim_label', 'date_published',\n",
      "       'date_updated', 'page_url', 'page_is_example', 'page_is_image_credit',\n",
      "       'page_is_archived', 'page_is_first_citation', 'tags'],\n",
      "      dtype='object')\n"
     ]
    }
   ],
   "source": [
    "print('Columns\\nFake:')\n",
    "print(fake_df.columns)\n",
    "print('\\nFNC bodies:')\n",
    "print(fnc_train_dfs[0].columns)\n",
    "print('\\nFNC stances:')\n",
    "print(fnc_train_dfs[1].columns)\n",
    "print('\\nLiar:')\n",
    "print(liar_train_df.columns)\n",
    "print('\\FEVER:')\n",
    "print(fever_df.columns)\n",
    "print('\\nRumor Citation Emergent:')\n",
    "print(rumor_dfs[0].columns)\n",
    "print('\\nRumor Citation Politifact:')\n",
    "print(rumor_dfs[1].columns)\n",
    "print('\\nRumor Citation Snopes:')\n",
    "print(rumor_dfs[2].columns)"
   ]
  },
  {
   "cell_type": "code",
   "execution_count": 5,
   "metadata": {},
   "outputs": [
    {
     "name": "stdout",
     "output_type": "stream",
     "text": [
      "Shapes\n",
      "Fake:\n",
      "(12999, 20)\n",
      "\n",
      "FNC bodies train:\n",
      "(1683, 2)\n",
      "\n",
      "FNC stances train:\n",
      "(49972, 3)\n",
      "\n",
      "FNC bodies test:\n",
      "(904, 2)\n",
      "\n",
      "FNC stances test:\n",
      "(25413, 2)\n",
      "\n",
      "Liar train:\n",
      "(10240, 14)\n",
      "\n",
      "Liar test:\n",
      "(1267, 14)\n",
      "\n",
      "FEVER:\n",
      "(1174, 8)\n",
      "\n",
      "Rumor Citation Emergent:\n",
      "(2145, 15)\n",
      "\n",
      "Rumor Citation Politifact:\n",
      "(2923, 12)\n",
      "\n",
      "Rumor Citation Snopes:\n",
      "(16865, 12)\n"
     ]
    }
   ],
   "source": [
    "print('Shapes\\nFake:')\n",
    "print(fake_df.shape)\n",
    "print('\\nFNC bodies train:')\n",
    "print(fnc_train_dfs[0].shape)\n",
    "print('\\nFNC stances train:')\n",
    "print(fnc_train_dfs[1].shape)\n",
    "print('\\nFNC bodies test:')\n",
    "print(fnc_test_dfs[0].shape)\n",
    "print('\\nFNC stances test:')\n",
    "print(fnc_test_dfs[1].shape)\n",
    "print('\\nLiar train:')\n",
    "print(liar_train_df.shape)\n",
    "print('\\nLiar test:')\n",
    "print(liar_test_df.shape)\n",
    "print('\\nFEVER:')\n",
    "print(fever_df.shape)\n",
    "print('\\nRumor Citation Emergent:')\n",
    "print(rumor_dfs[0].shape)\n",
    "print('\\nRumor Citation Politifact:')\n",
    "print(rumor_dfs[1].shape)\n",
    "print('\\nRumor Citation Snopes:')\n",
    "print(rumor_dfs[2].shape)"
   ]
  },
  {
   "cell_type": "code",
   "execution_count": 6,
   "metadata": {},
   "outputs": [],
   "source": [
    "# time to clean!\n",
    "\n",
    "import numpy as np\n",
    "\n",
    "fake_df = fake_df.drop('main_img_url', axis = 1)\n"
   ]
  },
  {
   "cell_type": "code",
   "execution_count": 7,
   "metadata": {},
   "outputs": [],
   "source": [
    "fake_df.domain_rank = fake_df.domain_rank.fillna(np.average(fake_df.domain_rank.dropna()))"
   ]
  },
  {
   "cell_type": "code",
   "execution_count": 8,
   "metadata": {},
   "outputs": [],
   "source": [
    "fake_df.author = fake_df.author.fillna('')\n",
    "fake_df.title = fake_df.title.fillna('')\n",
    "fake_df.thread_title = fake_df.thread_title.fillna('')\n",
    "fake_df.country = fake_df.country.fillna('')\n",
    "fake_df.text = fake_df.text.fillna('')"
   ]
  },
  {
   "cell_type": "code",
   "execution_count": 9,
   "metadata": {},
   "outputs": [],
   "source": [
    "liar_train_df = liar_train_df.dropna(subset=['subject'])\n",
    "\n",
    "liar_train_df.job = liar_train_df.job.fillna('')\n",
    "liar_test_df.job = liar_test_df.job.fillna('')\n",
    "liar_train_df.state = liar_train_df.state.fillna('')\n",
    "liar_test_df.state = liar_test_df.state.fillna('')\n",
    "liar_train_df.venue = liar_train_df.venue.fillna('')\n",
    "liar_test_df.venue = liar_test_df.venue.fillna('')\n",
    "\n",
    "fever_df.transformation = fever_df.transformation.fillna('')\n",
    "fever_df.original_id = fever_df.original_id.fillna('')"
   ]
  },
  {
   "cell_type": "code",
   "execution_count": 10,
   "metadata": {},
   "outputs": [],
   "source": [
    "rumor_dfs[0].claim_description = rumor_dfs[0].claim_description.fillna('')\n",
    "rumor_dfs[0].tags = rumor_dfs[0].tags.fillna('')\n",
    "rumor_dfs[0].page_headline = rumor_dfs[0].page_headline.fillna('')\n",
    "rumor_dfs[0] = rumor_dfs[0].dropna(subset=['page_domain'])\n",
    "rumor_dfs[0] = rumor_dfs[0].drop(['page_position'], axis=1)"
   ]
  },
  {
   "cell_type": "code",
   "execution_count": 11,
   "metadata": {},
   "outputs": [],
   "source": [
    "rumor_dfs[1].page_url = rumor_dfs[1].page_url.fillna('')\n",
    "rumor_dfs[2].topic = rumor_dfs[2].topic.fillna('')\n",
    "rumor_dfs[2].date_updated = rumor_dfs[2].date_updated.fillna('')\n",
    "rumor_dfs[2].page_url = rumor_dfs[2].page_url.fillna('')\n",
    "rumor_dfs[2].tags = rumor_dfs[2].tags.fillna('')\n",
    "rumor_dfs[2] = rumor_dfs[2].dropna(subset=['claim'])"
   ]
  },
  {
   "cell_type": "code",
   "execution_count": 12,
   "metadata": {},
   "outputs": [
    {
     "name": "stdout",
     "output_type": "stream",
     "text": [
      "Missing Data\n",
      "Fake:\n",
      "uuid                  0\n",
      "ord_in_thread         0\n",
      "author                0\n",
      "published             0\n",
      "title                 0\n",
      "text                  0\n",
      "language              0\n",
      "crawled               0\n",
      "site_url              0\n",
      "country               0\n",
      "domain_rank           0\n",
      "thread_title          0\n",
      "spam_score            0\n",
      "replies_count         0\n",
      "participants_count    0\n",
      "likes                 0\n",
      "comments              0\n",
      "shares                0\n",
      "type                  0\n",
      "dtype: int64\n",
      "\n",
      "FNC bodies train:\n",
      "Body ID        0\n",
      "articleBody    0\n",
      "dtype: int64\n",
      "\n",
      "FNC stances train:\n",
      "Headline    0\n",
      "Body ID     0\n",
      "Stance      0\n",
      "dtype: int64\n",
      "\n",
      "FNC bodies test:\n",
      "Body ID        0\n",
      "articleBody    0\n",
      "dtype: int64\n",
      "\n",
      "FNC stances test:\n",
      "Headline    0\n",
      "Body ID     0\n",
      "dtype: int64\n",
      "\n",
      "Liar train:\n",
      "id                 0\n",
      "label              0\n",
      "statement          0\n",
      "subject            0\n",
      "speaker            0\n",
      "job                0\n",
      "state              0\n",
      "party              0\n",
      "barely_true_c      0\n",
      "false_c            0\n",
      "half_true_c        0\n",
      "mostly_true_c      0\n",
      "pants_on_fire_c    0\n",
      "venue              0\n",
      "dtype: int64\n",
      "\n",
      "Liar test:\n",
      "id                 0\n",
      "label              0\n",
      "statement          0\n",
      "subject            0\n",
      "speaker            0\n",
      "job                0\n",
      "state              0\n",
      "party              0\n",
      "barely_true_c      0\n",
      "false_c            0\n",
      "half_true_c        0\n",
      "mostly_true_c      0\n",
      "pants_on_fire_c    0\n",
      "venue              0\n",
      "dtype: int64\n",
      "\n",
      "FEVER:\n",
      "id                0\n",
      "label             0\n",
      "claim             0\n",
      "evidence          0\n",
      "original_id       0\n",
      "transformation    0\n",
      "attack            0\n",
      "annotation        0\n",
      "dtype: int64\n",
      "\n",
      "Rumor Citation Emergent:\n",
      "emergent_page          0\n",
      "claim                  0\n",
      "claim_description      0\n",
      "claim_label            0\n",
      "tags                   0\n",
      "claim_source_domain    0\n",
      "claim_course_url       0\n",
      "date                   0\n",
      "body                   0\n",
      "page_domain            0\n",
      "page_url               0\n",
      "page_headline          0\n",
      "page_shares            0\n",
      "page_order             0\n",
      "dtype: int64\n",
      "\n",
      "Rumor Citation Politifact:\n",
      "politifact_page           0\n",
      "claim                     0\n",
      "claim_source              0\n",
      "claim_citation            0\n",
      "claim_label               0\n",
      "date_published            0\n",
      "researched_by             0\n",
      "edited_by                 0\n",
      "tags                      0\n",
      "page_citation             0\n",
      "page_url                  0\n",
      "page_is_first_citation    0\n",
      "dtype: int64\n",
      "\n",
      "Rumor Citation Snopes:\n",
      "snopes_page               0\n",
      "topic                     0\n",
      "claim                     0\n",
      "claim_label               0\n",
      "date_published            0\n",
      "date_updated              0\n",
      "page_url                  0\n",
      "page_is_example           0\n",
      "page_is_image_credit      0\n",
      "page_is_archived          0\n",
      "page_is_first_citation    0\n",
      "tags                      0\n",
      "dtype: int64\n"
     ]
    }
   ],
   "source": [
    "# all clean\n",
    "\n",
    "print('Missing Data\\nFake:')\n",
    "print(fake_df.isnull().sum())\n",
    "print('\\nFNC bodies train:')\n",
    "print(fnc_train_dfs[0].isnull().sum())\n",
    "print('\\nFNC stances train:')\n",
    "print(fnc_train_dfs[1].isnull().sum())\n",
    "print('\\nFNC bodies test:')\n",
    "print(fnc_test_dfs[0].isnull().sum())\n",
    "print('\\nFNC stances test:')\n",
    "print(fnc_test_dfs[1].isnull().sum())\n",
    "print('\\nLiar train:')\n",
    "print(liar_train_df.isnull().sum())\n",
    "print('\\nLiar test:')\n",
    "print(liar_test_df.isnull().sum())\n",
    "print('\\nFEVER:')\n",
    "print(fever_df.isnull().sum())\n",
    "print('\\nRumor Citation Emergent:')\n",
    "print(rumor_dfs[0].isnull().sum())\n",
    "print('\\nRumor Citation Politifact:')\n",
    "print(rumor_dfs[1].isnull().sum())\n",
    "print('\\nRumor Citation Snopes:')\n",
    "print(rumor_dfs[2].isnull().sum())"
   ]
  },
  {
   "cell_type": "code",
   "execution_count": 13,
   "metadata": {},
   "outputs": [
    {
     "name": "stdout",
     "output_type": "stream",
     "text": [
      "0       Daiane+DeJesus,DC+Toys+Collector,Porm,Sandy+Su...\n",
      "1       Daiane+DeJesus,DC+Toys+Collector,Porm,Sandy+Su...\n",
      "2       Daiane+DeJesus,DC+Toys+Collector,Porm,Sandy+Su...\n",
      "3       Australia,Food,Hamburger,McDonald's,Quarter+Po...\n",
      "4       Australia,Food,Hamburger,McDonald's,Quarter+Po...\n",
      "                              ...                        \n",
      "2140    Apple+Watch,Daisuke+Wakabayashi,Wall+Street+Jo...\n",
      "2141    Apple+Watch,Daisuke+Wakabayashi,Wall+Street+Jo...\n",
      "2142    Apple+Watch,Daisuke+Wakabayashi,Wall+Street+Jo...\n",
      "2143    Apple+Watch,Daisuke+Wakabayashi,Wall+Street+Jo...\n",
      "2144    Apple+Watch,Daisuke+Wakabayashi,Wall+Street+Jo...\n",
      "Name: tags, Length: 2144, dtype: object\n",
      "0       Fake news\n",
      "1       Fake news\n",
      "2       Fake news\n",
      "3       Fake news\n",
      "4       Fake news\n",
      "          ...    \n",
      "2918      History\n",
      "2919      History\n",
      "2920      History\n",
      "2921      History\n",
      "2922      History\n",
      "Name: tags, Length: 2923, dtype: object\n",
      "0                                              \n",
      "1                                              \n",
      "2                                              \n",
      "3                                              \n",
      "4                                              \n",
      "                          ...                  \n",
      "16860    politics,guatemala,donald-trump,mexico\n",
      "16861    politics,guatemala,donald-trump,mexico\n",
      "16862    politics,guatemala,donald-trump,mexico\n",
      "16863    politics,guatemala,donald-trump,mexico\n",
      "16864    politics,guatemala,donald-trump,mexico\n",
      "Name: tags, Length: 16862, dtype: object\n"
     ]
    }
   ],
   "source": [
    "print(rumor_dfs[0].tags)\n",
    "print(rumor_dfs[1].tags)\n",
    "print(rumor_dfs[2].tags)\n",
    "\n",
    "import re\n",
    "\n",
    "emergent_pattern = re.compile(re.escape(r'.*(+.*)*'))\n",
    "\n",
    "rumor_dfs[0].tags = rumor_dfs[0].tags.apply(lambda x: x.replace('+', \" \").split(','))\n",
    "rumor_dfs[1].tags = rumor_dfs[1].tags.apply(lambda x: x.replace('+', \" \").split(','))\n",
    "rumor_dfs[2].tags = rumor_dfs[2].tags.apply(lambda x: x.replace('+', \" \").split(','))"
   ]
  },
  {
   "cell_type": "code",
   "execution_count": 14,
   "metadata": {},
   "outputs": [
    {
     "data": {
      "text/plain": [
       "<matplotlib.axes._subplots.AxesSubplot at 0x121aeab50>"
      ]
     },
     "execution_count": 14,
     "metadata": {},
     "output_type": "execute_result"
    }
   ],
   "source": [
    "fake_df.plot(x='spam_score', y='domain_rank', kind='scatter', title='Fake')\n",
    "# no correlation b/w spam score and domain rank ???"
   ]
  },
  {
   "cell_type": "code",
   "execution_count": 15,
   "metadata": {},
   "outputs": [
    {
     "data": {
      "text/plain": [
       "bs            11492\n",
       "bias            443\n",
       "conspiracy      430\n",
       "hate            246\n",
       "satire          146\n",
       "state           121\n",
       "junksci         102\n",
       "fake             19\n",
       "Name: type, dtype: int64"
      ]
     },
     "execution_count": 15,
     "metadata": {},
     "output_type": "execute_result"
    }
   ],
   "source": [
    "fake_df.type.value_counts()"
   ]
  },
  {
   "cell_type": "code",
   "execution_count": 16,
   "metadata": {},
   "outputs": [
    {
     "data": {
      "text/plain": [
       "Text(0.5, 0.98, 'Fake')"
      ]
     },
     "execution_count": 16,
     "metadata": {},
     "output_type": "execute_result"
    },
    {
     "data": {
      "image/png": "[encoded data removed]",
      "text/plain": [
       "<Figure size 360x360 with 1 Axes>"
      ]
     },
     "metadata": {
      "needs_background": "light"
     },
     "output_type": "display_data"
    },
    {
     "data": {
      "image/png": "[encoded data removed]",
      "text/plain": [
       "<Figure size 360x360 with 1 Axes>"
      ]
     },
     "metadata": {
      "needs_background": "light"
     },
     "output_type": "display_data"
    }
   ],
   "source": [
    "import seaborn as sns\n",
    "\n",
    "sns.catplot(x=\"type\", y=\"domain_rank\", data=fake_df).fig.suptitle('Fake')\n",
    "sns.catplot(x=\"type\", y=\"spam_score\", data=fake_df).fig.suptitle('Fake')"
   ]
  },
  {
   "cell_type": "code",
   "execution_count": 17,
   "metadata": {},
   "outputs": [
    {
     "name": "stdout",
     "output_type": "stream",
     "text": [
      "unrelated    36545\n",
      "discuss       8909\n",
      "agree         3678\n",
      "disagree       840\n",
      "Name: Stance, dtype: int64\n"
     ]
    },
    {
     "data": {
      "image/png": "[encoded data removed]",
      "text/plain": [
       "<Figure size 432x288 with 1 Axes>"
      ]
     },
     "metadata": {
      "needs_background": "light"
     },
     "output_type": "display_data"
    }
   ],
   "source": [
    "fnc_train_dfs[1].plot(x='Stance', kind='line', title=\"FNC\")\n",
    "# looks good - useable!\n",
    "print(fnc_train_dfs[1].Stance.value_counts())"
   ]
  },
  {
   "cell_type": "code",
   "execution_count": 18,
   "metadata": {},
   "outputs": [
    {
     "data": {
      "text/html": [
       "<div>\n",
       "<style scoped>\n",
       "    .dataframe tbody tr th:only-of-type {\n",
       "        vertical-align: middle;\n",
       "    }\n",
       "\n",
       "    .dataframe tbody tr th {\n",
       "        vertical-align: top;\n",
       "    }\n",
       "\n",
       "    .dataframe thead th {\n",
       "        text-align: right;\n",
       "    }\n",
       "</style>\n",
       "<table border=\"1\" class=\"dataframe\">\n",
       "  <thead>\n",
       "    <tr style=\"text-align: right;\">\n",
       "      <th></th>\n",
       "      <th>id</th>\n",
       "      <th>label</th>\n",
       "      <th>statement</th>\n",
       "      <th>subject</th>\n",
       "      <th>speaker</th>\n",
       "      <th>job</th>\n",
       "      <th>state</th>\n",
       "      <th>party</th>\n",
       "      <th>barely_true_c</th>\n",
       "      <th>false_c</th>\n",
       "      <th>half_true_c</th>\n",
       "      <th>mostly_true_c</th>\n",
       "      <th>pants_on_fire_c</th>\n",
       "      <th>venue</th>\n",
       "    </tr>\n",
       "  </thead>\n",
       "  <tbody>\n",
       "    <tr>\n",
       "      <td>0</td>\n",
       "      <td>2635.json</td>\n",
       "      <td>false</td>\n",
       "      <td>Says the Annies List political group supports ...</td>\n",
       "      <td>abortion</td>\n",
       "      <td>dwayne-bohac</td>\n",
       "      <td>State representative</td>\n",
       "      <td>Texas</td>\n",
       "      <td>republican</td>\n",
       "      <td>0.0</td>\n",
       "      <td>1.0</td>\n",
       "      <td>0.0</td>\n",
       "      <td>0.0</td>\n",
       "      <td>0.0</td>\n",
       "      <td>a mailer</td>\n",
       "    </tr>\n",
       "  </tbody>\n",
       "</table>\n",
       "</div>"
      ],
      "text/plain": [
       "          id  label                                          statement  \\\n",
       "0  2635.json  false  Says the Annies List political group supports ...   \n",
       "\n",
       "    subject       speaker                   job  state       party  \\\n",
       "0  abortion  dwayne-bohac  State representative  Texas  republican   \n",
       "\n",
       "   barely_true_c  false_c  half_true_c  mostly_true_c  pants_on_fire_c  \\\n",
       "0            0.0      1.0          0.0            0.0              0.0   \n",
       "\n",
       "      venue  \n",
       "0  a mailer  "
      ]
     },
     "execution_count": 18,
     "metadata": {},
     "output_type": "execute_result"
    }
   ],
   "source": [
    "liar_train_df[:1]\n",
    "#truth data is float in multiple columns - not sure how to combine"
   ]
  },
  {
   "cell_type": "code",
   "execution_count": 19,
   "metadata": {},
   "outputs": [
    {
     "data": {
      "text/plain": [
       "array([<matplotlib.axes._subplots.AxesSubplot object at 0x1a29533190>,\n",
       "       <matplotlib.axes._subplots.AxesSubplot object at 0x1a29540590>,\n",
       "       <matplotlib.axes._subplots.AxesSubplot object at 0x1a2906d750>,\n",
       "       <matplotlib.axes._subplots.AxesSubplot object at 0x1a28f21310>,\n",
       "       <matplotlib.axes._subplots.AxesSubplot object at 0x1a28f31f50>],\n",
       "      dtype=object)"
      ]
     },
     "execution_count": 19,
     "metadata": {},
     "output_type": "execute_result"
    },
    {
     "data": {
      "image/png": "[encoded data removed]",
      "text/plain": [
       "<Figure size 432x288 with 5 Axes>"
      ]
     },
     "metadata": {
      "needs_background": "light"
     },
     "output_type": "display_data"
    }
   ],
   "source": [
    "liar_train_df.plot(kind='hist', subplots = True, title = \"LIAR\", bins = 160)\n",
    "#one for highest value in each row, regularize"
   ]
  },
  {
   "cell_type": "code",
   "execution_count": 20,
   "metadata": {},
   "outputs": [
    {
     "name": "stdout",
     "output_type": "stream",
     "text": [
      "[5469, 7428, 7213, 7637, 7487]\n"
     ]
    }
   ],
   "source": [
    "liar_counts = []\n",
    "liar_counts.append(liar_train_df[liar_train_df.pants_on_fire_c > 0].pants_on_fire_c.count())\n",
    "liar_counts.append(liar_train_df[liar_train_df.false_c > 0].false_c.count())\n",
    "liar_counts.append(liar_train_df[liar_train_df.barely_true_c > 0].barely_true_c.count())\n",
    "liar_counts.append(liar_train_df[liar_train_df.half_true_c > 0].half_true_c.count())\n",
    "liar_counts.append(liar_train_df[liar_train_df.mostly_true_c > 0].mostly_true_c.count())\n",
    "sum(liar_counts)\n",
    "# ~35,000 non-zero rating for ~10,000 rows - ~3.5 per row!\n",
    "print(liar_counts)"
   ]
  },
  {
   "cell_type": "code",
   "execution_count": 21,
   "metadata": {},
   "outputs": [
    {
     "data": {
      "text/plain": [
       "array([<matplotlib.axes._subplots.AxesSubplot object at 0x1a2915b8d0>,\n",
       "       <matplotlib.axes._subplots.AxesSubplot object at 0x124f78b10>,\n",
       "       <matplotlib.axes._subplots.AxesSubplot object at 0x1a29cb7dd0>,\n",
       "       <matplotlib.axes._subplots.AxesSubplot object at 0x1a29cddfd0>,\n",
       "       <matplotlib.axes._subplots.AxesSubplot object at 0x1a29cefb10>],\n",
       "      dtype=object)"
      ]
     },
     "execution_count": 21,
     "metadata": {},
     "output_type": "execute_result"
    },
    {
     "data": {
      "image/png": "[encoded data removed]",
      "text/plain": [
       "<Figure size 432x288 with 5 Axes>"
      ]
     },
     "metadata": {
      "needs_background": "light"
     },
     "output_type": "display_data"
    }
   ],
   "source": [
    "liar_train_df = liar_train_df[liar_train_df.pants_on_fire_c < 51]\n",
    "liar_train_df = liar_train_df[liar_train_df.false_c < 51]\n",
    "liar_train_df = liar_train_df[liar_train_df.barely_true_c < 51]\n",
    "liar_train_df = liar_train_df[liar_train_df.half_true_c < 51]\n",
    "liar_train_df = liar_train_df[liar_train_df.mostly_true_c < 51]\n",
    "liar_train_df.plot(kind='hist', subplots = True, title = \"LIAR\", bins = 50)\n",
    "#one for highest value in each row, regularize"
   ]
  },
  {
   "cell_type": "code",
   "execution_count": 22,
   "metadata": {},
   "outputs": [
    {
     "name": "stdout",
     "output_type": "stream",
     "text": [
      "[4151, 6110, 5895, 6319, 6169]\n"
     ]
    }
   ],
   "source": [
    "liar_counts = []\n",
    "liar_counts.append(liar_train_df[liar_train_df.pants_on_fire_c > 0].pants_on_fire_c.count())\n",
    "liar_counts.append(liar_train_df[liar_train_df.false_c > 0].false_c.count())\n",
    "liar_counts.append(liar_train_df[liar_train_df.barely_true_c > 0].barely_true_c.count())\n",
    "liar_counts.append(liar_train_df[liar_train_df.half_true_c > 0].half_true_c.count())\n",
    "liar_counts.append(liar_train_df[liar_train_df.mostly_true_c > 0].mostly_true_c.count())\n",
    "sum(liar_counts)\n",
    "# ~35,000 non-zero rating for ~10,000 rows - ~3.5 per row!\n",
    "print(liar_counts)"
   ]
  },
  {
   "cell_type": "code",
   "execution_count": 23,
   "metadata": {},
   "outputs": [
    {
     "data": {
      "text/plain": [
       "0                          [[[269158, None, None, None]]]\n",
       "1                     [[[141141, 156349, Simon_Pegg, 0]]]\n",
       "2       [[[25977, 31918, Exotic_Birds, 2], [25977, 319...\n",
       "3       [[[None, None, The_Nice_Guys, 0], [None, None,...\n",
       "4       [[[None, None, Rupert_Murdoch, 1], [None, None...\n",
       "                              ...                        \n",
       "1169      [[[179017, None, Macklemore_&_Ryan_Lewis, -1]]]\n",
       "1170                [[[24966, 30831, Stomp_the_Yard, 0]]]\n",
       "1171       [[[49192, 58517, Meteora_-LRB-horse-RRB-, 0]]]\n",
       "1172    [[[238922, 240894, The_Chaperone_-LRB-film-RRB...\n",
       "1173     [[[93188, 106109, Night_of_the_Living_Dead, 0]]]\n",
       "Name: evidence, Length: 1174, dtype: object"
      ]
     },
     "execution_count": 23,
     "metadata": {},
     "output_type": "execute_result"
    }
   ],
   "source": [
    "fever_df.evidence\n",
    "#won't use this - not sure what values mean, content sources are weird (movies, music, etc.)"
   ]
  },
  {
   "cell_type": "code",
   "execution_count": 24,
   "metadata": {},
   "outputs": [
    {
     "name": "stdout",
     "output_type": "stream",
     "text": [
      "Index(['emergent_page', 'claim', 'claim_description', 'claim_label', 'tags',\n",
      "       'claim_source_domain', 'claim_course_url', 'date', 'body',\n",
      "       'page_domain', 'page_url', 'page_headline', 'page_shares',\n",
      "       'page_order'],\n",
      "      dtype='object')\n",
      "Index(['politifact_page', 'claim', 'claim_source', 'claim_citation',\n",
      "       'claim_label', 'date_published', 'researched_by', 'edited_by', 'tags',\n",
      "       'page_citation', 'page_url', 'page_is_first_citation'],\n",
      "      dtype='object')\n",
      "Index(['snopes_page', 'topic', 'claim', 'claim_label', 'date_published',\n",
      "       'date_updated', 'page_url', 'page_is_example', 'page_is_image_credit',\n",
      "       'page_is_archived', 'page_is_first_citation', 'tags'],\n",
      "      dtype='object')\n"
     ]
    }
   ],
   "source": [
    "print(rumor_dfs[0].columns)\n",
    "print(rumor_dfs[1].columns)\n",
    "print(rumor_dfs[2].columns)"
   ]
  },
  {
   "cell_type": "code",
   "execution_count": 25,
   "metadata": {},
   "outputs": [
    {
     "name": "stdout",
     "output_type": "stream",
     "text": [
      "Unverified    857\n",
      "TRUE          737\n",
      "FALSE         550\n",
      "Name: claim_label, dtype: int64\n",
      "pants-fire     1110\n",
      "false           731\n",
      "barely-true     460\n",
      "half-true       244\n",
      "mostly-true     207\n",
      "true            171\n",
      "Name: claim_label, dtype: int64\n",
      "false           8765\n",
      "mfalse          3319\n",
      "mixture         2618\n",
      "true            1480\n",
      "mtrue            487\n",
      "undetermined     151\n",
      "legend            42\n",
      "Name: claim_label, dtype: int64\n"
     ]
    }
   ],
   "source": [
    "print(rumor_dfs[0].claim_label.value_counts())\n",
    "print(rumor_dfs[1].claim_label.value_counts())\n",
    "print(rumor_dfs[2].claim_label.value_counts())"
   ]
  },
  {
   "cell_type": "markdown",
   "metadata": {},
   "source": [
    "rumor_dfs[0]"
   ]
  },
  {
   "cell_type": "code",
   "execution_count": 26,
   "metadata": {},
   "outputs": [
    {
     "data": {
      "text/html": [
       "<div>\n",
       "<style scoped>\n",
       "    .dataframe tbody tr th:only-of-type {\n",
       "        vertical-align: middle;\n",
       "    }\n",
       "\n",
       "    .dataframe tbody tr th {\n",
       "        vertical-align: top;\n",
       "    }\n",
       "\n",
       "    .dataframe thead th {\n",
       "        text-align: right;\n",
       "    }\n",
       "</style>\n",
       "<table border=\"1\" class=\"dataframe\">\n",
       "  <thead>\n",
       "    <tr style=\"text-align: right;\">\n",
       "      <th></th>\n",
       "      <th>snopes_page</th>\n",
       "      <th>topic</th>\n",
       "      <th>claim</th>\n",
       "      <th>claim_label</th>\n",
       "      <th>date_published</th>\n",
       "      <th>date_updated</th>\n",
       "      <th>page_url</th>\n",
       "      <th>page_is_example</th>\n",
       "      <th>page_is_image_credit</th>\n",
       "      <th>page_is_archived</th>\n",
       "      <th>page_is_first_citation</th>\n",
       "      <th>tags</th>\n",
       "    </tr>\n",
       "  </thead>\n",
       "  <tbody>\n",
       "    <tr>\n",
       "      <td>0</td>\n",
       "      <td>http://www.snopes.com/georgia-bans-muslim-cult...</td>\n",
       "      <td>politics</td>\n",
       "      <td>Georgia recently became the first U.S. state t...</td>\n",
       "      <td>false</td>\n",
       "      <td>Nov 17th, 2016</td>\n",
       "      <td>Mar 20th, 2017</td>\n",
       "      <td>http://www.legis.ga.gov/Legislation/en-US/disp...</td>\n",
       "      <td>False</td>\n",
       "      <td>False</td>\n",
       "      <td>False</td>\n",
       "      <td>True</td>\n",
       "      <td>[]</td>\n",
       "    </tr>\n",
       "    <tr>\n",
       "      <td>1</td>\n",
       "      <td>http://www.snopes.com/georgia-bans-muslim-cult...</td>\n",
       "      <td>politics</td>\n",
       "      <td>Georgia recently became the first U.S. state t...</td>\n",
       "      <td>false</td>\n",
       "      <td>Nov 17th, 2016</td>\n",
       "      <td>Mar 20th, 2017</td>\n",
       "      <td>http://arabsinamerica.unc.edu/identity/veiling...</td>\n",
       "      <td>False</td>\n",
       "      <td>False</td>\n",
       "      <td>False</td>\n",
       "      <td>False</td>\n",
       "      <td>[]</td>\n",
       "    </tr>\n",
       "    <tr>\n",
       "      <td>2</td>\n",
       "      <td>http://www.snopes.com/georgia-bans-muslim-cult...</td>\n",
       "      <td>politics</td>\n",
       "      <td>Georgia recently became the first U.S. state t...</td>\n",
       "      <td>false</td>\n",
       "      <td>Nov 17th, 2016</td>\n",
       "      <td>Mar 20th, 2017</td>\n",
       "      <td>http://www.wisegeek.com/what-is-a-niqab.htm</td>\n",
       "      <td>False</td>\n",
       "      <td>False</td>\n",
       "      <td>False</td>\n",
       "      <td>False</td>\n",
       "      <td>[]</td>\n",
       "    </tr>\n",
       "    <tr>\n",
       "      <td>3</td>\n",
       "      <td>http://www.snopes.com/georgia-bans-muslim-cult...</td>\n",
       "      <td>politics</td>\n",
       "      <td>Georgia recently became the first U.S. state t...</td>\n",
       "      <td>false</td>\n",
       "      <td>Nov 17th, 2016</td>\n",
       "      <td>Mar 20th, 2017</td>\n",
       "      <td>http://www.wsbtv.com/news/local/new-bill-would...</td>\n",
       "      <td>False</td>\n",
       "      <td>False</td>\n",
       "      <td>False</td>\n",
       "      <td>False</td>\n",
       "      <td>[]</td>\n",
       "    </tr>\n",
       "    <tr>\n",
       "      <td>4</td>\n",
       "      <td>http://www.snopes.com/georgia-bans-muslim-cult...</td>\n",
       "      <td>politics</td>\n",
       "      <td>Georgia recently became the first U.S. state t...</td>\n",
       "      <td>false</td>\n",
       "      <td>Nov 17th, 2016</td>\n",
       "      <td>Mar 20th, 2017</td>\n",
       "      <td>http://www.house-press.com/?p=6060</td>\n",
       "      <td>False</td>\n",
       "      <td>False</td>\n",
       "      <td>False</td>\n",
       "      <td>False</td>\n",
       "      <td>[]</td>\n",
       "    </tr>\n",
       "    <tr>\n",
       "      <td>...</td>\n",
       "      <td>...</td>\n",
       "      <td>...</td>\n",
       "      <td>...</td>\n",
       "      <td>...</td>\n",
       "      <td>...</td>\n",
       "      <td>...</td>\n",
       "      <td>...</td>\n",
       "      <td>...</td>\n",
       "      <td>...</td>\n",
       "      <td>...</td>\n",
       "      <td>...</td>\n",
       "      <td>...</td>\n",
       "    </tr>\n",
       "    <tr>\n",
       "      <td>16860</td>\n",
       "      <td>http://snopes.com//mexico-guatemala-border/</td>\n",
       "      <td>fauxtography</td>\n",
       "      <td>Photographs show a border fence between the co...</td>\n",
       "      <td>false</td>\n",
       "      <td>Aug 26th, 2015</td>\n",
       "      <td>Jan 27th, 2017</td>\n",
       "      <td>https://www.quora.com/Does-Mexico-have-a-wall-...</td>\n",
       "      <td>False</td>\n",
       "      <td>False</td>\n",
       "      <td>False</td>\n",
       "      <td>False</td>\n",
       "      <td>[politics, guatemala, donald-trump, mexico]</td>\n",
       "    </tr>\n",
       "    <tr>\n",
       "      <td>16861</td>\n",
       "      <td>http://snopes.com//mexico-guatemala-border/</td>\n",
       "      <td>fauxtography</td>\n",
       "      <td>Photographs show a border fence between the co...</td>\n",
       "      <td>false</td>\n",
       "      <td>Aug 26th, 2015</td>\n",
       "      <td>Jan 27th, 2017</td>\n",
       "      <td>http://fusion.net/story/124671/as-mexico-tight...</td>\n",
       "      <td>False</td>\n",
       "      <td>False</td>\n",
       "      <td>False</td>\n",
       "      <td>False</td>\n",
       "      <td>[politics, guatemala, donald-trump, mexico]</td>\n",
       "    </tr>\n",
       "    <tr>\n",
       "      <td>16862</td>\n",
       "      <td>http://snopes.com//mexico-guatemala-border/</td>\n",
       "      <td>fauxtography</td>\n",
       "      <td>Photographs show a border fence between the co...</td>\n",
       "      <td>false</td>\n",
       "      <td>Aug 26th, 2015</td>\n",
       "      <td>Jan 27th, 2017</td>\n",
       "      <td>http://www.defendersblog.org/2013/06/on-the-li...</td>\n",
       "      <td>False</td>\n",
       "      <td>False</td>\n",
       "      <td>False</td>\n",
       "      <td>False</td>\n",
       "      <td>[politics, guatemala, donald-trump, mexico]</td>\n",
       "    </tr>\n",
       "    <tr>\n",
       "      <td>16863</td>\n",
       "      <td>http://snopes.com//mexico-guatemala-border/</td>\n",
       "      <td>fauxtography</td>\n",
       "      <td>Photographs show a border fence between the co...</td>\n",
       "      <td>false</td>\n",
       "      <td>Aug 26th, 2015</td>\n",
       "      <td>Jan 27th, 2017</td>\n",
       "      <td>http://www.i24news.tv/en/news/israel/diplomacy...</td>\n",
       "      <td>False</td>\n",
       "      <td>False</td>\n",
       "      <td>False</td>\n",
       "      <td>False</td>\n",
       "      <td>[politics, guatemala, donald-trump, mexico]</td>\n",
       "    </tr>\n",
       "    <tr>\n",
       "      <td>16864</td>\n",
       "      <td>http://snopes.com//mexico-guatemala-border/</td>\n",
       "      <td>fauxtography</td>\n",
       "      <td>Photographs show a border fence between the co...</td>\n",
       "      <td>false</td>\n",
       "      <td>Aug 26th, 2015</td>\n",
       "      <td>Jan 27th, 2017</td>\n",
       "      <td>http://www.vtjp.org/background/Separation_Wall...</td>\n",
       "      <td>False</td>\n",
       "      <td>False</td>\n",
       "      <td>False</td>\n",
       "      <td>False</td>\n",
       "      <td>[politics, guatemala, donald-trump, mexico]</td>\n",
       "    </tr>\n",
       "  </tbody>\n",
       "</table>\n",
       "<p>16862 rows × 12 columns</p>\n",
       "</div>"
      ],
      "text/plain": [
       "                                             snopes_page         topic  \\\n",
       "0      http://www.snopes.com/georgia-bans-muslim-cult...      politics   \n",
       "1      http://www.snopes.com/georgia-bans-muslim-cult...      politics   \n",
       "2      http://www.snopes.com/georgia-bans-muslim-cult...      politics   \n",
       "3      http://www.snopes.com/georgia-bans-muslim-cult...      politics   \n",
       "4      http://www.snopes.com/georgia-bans-muslim-cult...      politics   \n",
       "...                                                  ...           ...   \n",
       "16860        http://snopes.com//mexico-guatemala-border/  fauxtography   \n",
       "16861        http://snopes.com//mexico-guatemala-border/  fauxtography   \n",
       "16862        http://snopes.com//mexico-guatemala-border/  fauxtography   \n",
       "16863        http://snopes.com//mexico-guatemala-border/  fauxtography   \n",
       "16864        http://snopes.com//mexico-guatemala-border/  fauxtography   \n",
       "\n",
       "                                                   claim claim_label  \\\n",
       "0      Georgia recently became the first U.S. state t...       false   \n",
       "1      Georgia recently became the first U.S. state t...       false   \n",
       "2      Georgia recently became the first U.S. state t...       false   \n",
       "3      Georgia recently became the first U.S. state t...       false   \n",
       "4      Georgia recently became the first U.S. state t...       false   \n",
       "...                                                  ...         ...   \n",
       "16860  Photographs show a border fence between the co...       false   \n",
       "16861  Photographs show a border fence between the co...       false   \n",
       "16862  Photographs show a border fence between the co...       false   \n",
       "16863  Photographs show a border fence between the co...       false   \n",
       "16864  Photographs show a border fence between the co...       false   \n",
       "\n",
       "       date_published    date_updated  \\\n",
       "0      Nov 17th, 2016  Mar 20th, 2017   \n",
       "1      Nov 17th, 2016  Mar 20th, 2017   \n",
       "2      Nov 17th, 2016  Mar 20th, 2017   \n",
       "3      Nov 17th, 2016  Mar 20th, 2017   \n",
       "4      Nov 17th, 2016  Mar 20th, 2017   \n",
       "...               ...             ...   \n",
       "16860  Aug 26th, 2015  Jan 27th, 2017   \n",
       "16861  Aug 26th, 2015  Jan 27th, 2017   \n",
       "16862  Aug 26th, 2015  Jan 27th, 2017   \n",
       "16863  Aug 26th, 2015  Jan 27th, 2017   \n",
       "16864  Aug 26th, 2015  Jan 27th, 2017   \n",
       "\n",
       "                                                page_url  page_is_example  \\\n",
       "0      http://www.legis.ga.gov/Legislation/en-US/disp...            False   \n",
       "1      http://arabsinamerica.unc.edu/identity/veiling...            False   \n",
       "2            http://www.wisegeek.com/what-is-a-niqab.htm            False   \n",
       "3      http://www.wsbtv.com/news/local/new-bill-would...            False   \n",
       "4                     http://www.house-press.com/?p=6060            False   \n",
       "...                                                  ...              ...   \n",
       "16860  https://www.quora.com/Does-Mexico-have-a-wall-...            False   \n",
       "16861  http://fusion.net/story/124671/as-mexico-tight...            False   \n",
       "16862  http://www.defendersblog.org/2013/06/on-the-li...            False   \n",
       "16863  http://www.i24news.tv/en/news/israel/diplomacy...            False   \n",
       "16864  http://www.vtjp.org/background/Separation_Wall...            False   \n",
       "\n",
       "       page_is_image_credit  page_is_archived  page_is_first_citation  \\\n",
       "0                     False             False                    True   \n",
       "1                     False             False                   False   \n",
       "2                     False             False                   False   \n",
       "3                     False             False                   False   \n",
       "4                     False             False                   False   \n",
       "...                     ...               ...                     ...   \n",
       "16860                 False             False                   False   \n",
       "16861                 False             False                   False   \n",
       "16862                 False             False                   False   \n",
       "16863                 False             False                   False   \n",
       "16864                 False             False                   False   \n",
       "\n",
       "                                              tags  \n",
       "0                                               []  \n",
       "1                                               []  \n",
       "2                                               []  \n",
       "3                                               []  \n",
       "4                                               []  \n",
       "...                                            ...  \n",
       "16860  [politics, guatemala, donald-trump, mexico]  \n",
       "16861  [politics, guatemala, donald-trump, mexico]  \n",
       "16862  [politics, guatemala, donald-trump, mexico]  \n",
       "16863  [politics, guatemala, donald-trump, mexico]  \n",
       "16864  [politics, guatemala, donald-trump, mexico]  \n",
       "\n",
       "[16862 rows x 12 columns]"
      ]
     },
     "execution_count": 26,
     "metadata": {},
     "output_type": "execute_result"
    }
   ],
   "source": [
    "rumor_dfs[2]"
   ]
  },
  {
   "cell_type": "code",
   "execution_count": null,
   "metadata": {},
   "outputs": [],
   "source": []
  },
  {
   "cell_type": "code",
   "execution_count": null,
   "metadata": {},
   "outputs": [],
   "source": []
  },
  {
   "cell_type": "code",
   "execution_count": null,
   "metadata": {},
   "outputs": [],
   "source": []
  },
  {
   "cell_type": "code",
   "execution_count": null,
   "metadata": {},
   "outputs": [],
   "source": []
  },
  {
   "cell_type": "code",
   "execution_count": null,
   "metadata": {},
   "outputs": [],
   "source": []
  }
 ],
 "metadata": {
  "kernelspec": {
   "display_name": "Python 3",
   "language": "python",
   "name": "python3"
  },
  "language_info": {
   "codemirror_mode": {
    "name": "ipython",
    "version": 3
   },
   "file_extension": ".py",
   "mimetype": "text/x-python",
   "name": "python",
   "nbconvert_exporter": "python",
   "pygments_lexer": "ipython3",
   "version": "3.7.4"
  }
 },
 "nbformat": 4,
 "nbformat_minor": 2
}
